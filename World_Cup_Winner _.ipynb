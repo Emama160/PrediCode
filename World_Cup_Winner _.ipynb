{
 "cells": [
  {
   "cell_type": "code",
   "execution_count": 1,
   "metadata": {
    "execution": {
     "iopub.execute_input": "2022-11-19T16:03:34.432935Z",
     "iopub.status.busy": "2022-11-19T16:03:34.432313Z",
     "iopub.status.idle": "2022-11-19T16:03:34.441987Z",
     "shell.execute_reply": "2022-11-19T16:03:34.440905Z",
     "shell.execute_reply.started": "2022-11-19T16:03:34.432898Z"
    }
   },
   "outputs": [],
   "source": [
    "import pandas as pd\n",
    "import re"
   ]
  },
  {
   "cell_type": "markdown",
   "metadata": {},
   "source": [
    "\n",
    "\n",
    "# Data Preparation\n",
    "\n"
   ]
  },
  {
   "cell_type": "code",
   "execution_count": 5,
   "metadata": {
    "execution": {
     "iopub.execute_input": "2022-11-19T16:03:34.443955Z",
     "iopub.status.busy": "2022-11-19T16:03:34.443411Z",
     "iopub.status.idle": "2022-11-19T16:03:34.532574Z",
     "shell.execute_reply": "2022-11-19T16:03:34.531385Z",
     "shell.execute_reply.started": "2022-11-19T16:03:34.443915Z"
    }
   },
   "outputs": [],
   "source": [
    "df =  pd.read_csv('C:/Users/amema/OneDrive/Desktop/s3_/footballresults/results.csv')"
   ]
  },
  {
   "cell_type": "code",
   "execution_count": 6,
   "metadata": {
    "execution": {
     "iopub.execute_input": "2022-11-19T16:03:34.535018Z",
     "iopub.status.busy": "2022-11-19T16:03:34.534671Z",
     "iopub.status.idle": "2022-11-19T16:03:34.553824Z",
     "shell.execute_reply": "2022-11-19T16:03:34.552462Z",
     "shell.execute_reply.started": "2022-11-19T16:03:34.534989Z"
    }
   },
   "outputs": [],
   "source": [
    "df[\"date\"] = pd.to_datetime(df[\"date\"])"
   ]
  },
  {
   "cell_type": "code",
   "execution_count": 7,
   "metadata": {
    "execution": {
     "iopub.execute_input": "2022-11-19T16:03:34.55619Z",
     "iopub.status.busy": "2022-11-19T16:03:34.555724Z",
     "iopub.status.idle": "2022-11-19T16:03:34.578703Z",
     "shell.execute_reply": "2022-11-19T16:03:34.577469Z",
     "shell.execute_reply.started": "2022-11-19T16:03:34.556146Z"
    }
   },
   "outputs": [
    {
     "data": {
      "text/plain": [
       "date          0\n",
       "home_team     0\n",
       "away_team     0\n",
       "home_score    0\n",
       "away_score    0\n",
       "tournament    0\n",
       "city          4\n",
       "country       0\n",
       "neutral       0\n",
       "dtype: int64"
      ]
     },
     "execution_count": 7,
     "metadata": {},
     "output_type": "execute_result"
    }
   ],
   "source": [
    "df.isna().sum()"
   ]
  },
  {
   "cell_type": "code",
   "execution_count": 8,
   "metadata": {
    "execution": {
     "iopub.execute_input": "2022-11-19T16:03:34.580556Z",
     "iopub.status.busy": "2022-11-19T16:03:34.580112Z",
     "iopub.status.idle": "2022-11-19T16:03:34.604967Z",
     "shell.execute_reply": "2022-11-19T16:03:34.60339Z",
     "shell.execute_reply.started": "2022-11-19T16:03:34.580521Z"
    }
   },
   "outputs": [],
   "source": [
    "df.dropna(inplace=True)"
   ]
  },
  {
   "cell_type": "code",
   "execution_count": 9,
   "metadata": {
    "execution": {
     "iopub.execute_input": "2022-11-19T16:03:34.607448Z",
     "iopub.status.busy": "2022-11-19T16:03:34.606931Z",
     "iopub.status.idle": "2022-11-19T16:03:34.617632Z",
     "shell.execute_reply": "2022-11-19T16:03:34.616237Z",
     "shell.execute_reply.started": "2022-11-19T16:03:34.607397Z"
    }
   },
   "outputs": [
    {
     "data": {
      "text/plain": [
       "date          datetime64[ns]\n",
       "home_team             object\n",
       "away_team             object\n",
       "home_score             int64\n",
       "away_score             int64\n",
       "tournament            object\n",
       "city                  object\n",
       "country               object\n",
       "neutral                 bool\n",
       "dtype: object"
      ]
     },
     "execution_count": 9,
     "metadata": {},
     "output_type": "execute_result"
    }
   ],
   "source": [
    "df.dtypes"
   ]
  },
  {
   "cell_type": "code",
   "execution_count": 10,
   "metadata": {
    "execution": {
     "iopub.execute_input": "2022-11-19T16:03:34.619713Z",
     "iopub.status.busy": "2022-11-19T16:03:34.619343Z",
     "iopub.status.idle": "2022-11-19T16:03:34.645215Z",
     "shell.execute_reply": "2022-11-19T16:03:34.644124Z",
     "shell.execute_reply.started": "2022-11-19T16:03:34.619678Z"
    }
   },
   "outputs": [
    {
     "data": {
      "text/html": [
       "<div>\n",
       "<style scoped>\n",
       "    .dataframe tbody tr th:only-of-type {\n",
       "        vertical-align: middle;\n",
       "    }\n",
       "\n",
       "    .dataframe tbody tr th {\n",
       "        vertical-align: top;\n",
       "    }\n",
       "\n",
       "    .dataframe thead th {\n",
       "        text-align: right;\n",
       "    }\n",
       "</style>\n",
       "<table border=\"1\" class=\"dataframe\">\n",
       "  <thead>\n",
       "    <tr style=\"text-align: right;\">\n",
       "      <th></th>\n",
       "      <th>date</th>\n",
       "      <th>home_team</th>\n",
       "      <th>away_team</th>\n",
       "      <th>home_score</th>\n",
       "      <th>away_score</th>\n",
       "      <th>tournament</th>\n",
       "      <th>city</th>\n",
       "      <th>country</th>\n",
       "      <th>neutral</th>\n",
       "    </tr>\n",
       "  </thead>\n",
       "  <tbody>\n",
       "    <tr>\n",
       "      <th>44336</th>\n",
       "      <td>2022-12-04</td>\n",
       "      <td>England</td>\n",
       "      <td>Senegal</td>\n",
       "      <td>3</td>\n",
       "      <td>0</td>\n",
       "      <td>FIFA World Cup</td>\n",
       "      <td>Al Khor</td>\n",
       "      <td>Qatar</td>\n",
       "      <td>True</td>\n",
       "    </tr>\n",
       "    <tr>\n",
       "      <th>44337</th>\n",
       "      <td>2022-12-05</td>\n",
       "      <td>Japan</td>\n",
       "      <td>Croatia</td>\n",
       "      <td>1</td>\n",
       "      <td>1</td>\n",
       "      <td>FIFA World Cup</td>\n",
       "      <td>Al Wakrah</td>\n",
       "      <td>Qatar</td>\n",
       "      <td>True</td>\n",
       "    </tr>\n",
       "    <tr>\n",
       "      <th>44338</th>\n",
       "      <td>2022-12-05</td>\n",
       "      <td>Brazil</td>\n",
       "      <td>South Korea</td>\n",
       "      <td>4</td>\n",
       "      <td>1</td>\n",
       "      <td>FIFA World Cup</td>\n",
       "      <td>Doha</td>\n",
       "      <td>Qatar</td>\n",
       "      <td>True</td>\n",
       "    </tr>\n",
       "    <tr>\n",
       "      <th>44339</th>\n",
       "      <td>2022-12-06</td>\n",
       "      <td>Morocco</td>\n",
       "      <td>Spain</td>\n",
       "      <td>0</td>\n",
       "      <td>0</td>\n",
       "      <td>FIFA World Cup</td>\n",
       "      <td>Al Rayyan</td>\n",
       "      <td>Qatar</td>\n",
       "      <td>True</td>\n",
       "    </tr>\n",
       "    <tr>\n",
       "      <th>44340</th>\n",
       "      <td>2022-12-06</td>\n",
       "      <td>Portugal</td>\n",
       "      <td>Switzerland</td>\n",
       "      <td>6</td>\n",
       "      <td>1</td>\n",
       "      <td>FIFA World Cup</td>\n",
       "      <td>Lusail</td>\n",
       "      <td>Qatar</td>\n",
       "      <td>True</td>\n",
       "    </tr>\n",
       "  </tbody>\n",
       "</table>\n",
       "</div>"
      ],
      "text/plain": [
       "            date home_team    away_team  home_score  away_score  \\\n",
       "44336 2022-12-04   England      Senegal           3           0   \n",
       "44337 2022-12-05     Japan      Croatia           1           1   \n",
       "44338 2022-12-05    Brazil  South Korea           4           1   \n",
       "44339 2022-12-06   Morocco        Spain           0           0   \n",
       "44340 2022-12-06  Portugal  Switzerland           6           1   \n",
       "\n",
       "           tournament       city country  neutral  \n",
       "44336  FIFA World Cup    Al Khor   Qatar     True  \n",
       "44337  FIFA World Cup  Al Wakrah   Qatar     True  \n",
       "44338  FIFA World Cup       Doha   Qatar     True  \n",
       "44339  FIFA World Cup  Al Rayyan   Qatar     True  \n",
       "44340  FIFA World Cup     Lusail   Qatar     True  "
      ]
     },
     "execution_count": 10,
     "metadata": {},
     "output_type": "execute_result"
    }
   ],
   "source": [
    "df.sort_values(\"date\").tail()"
   ]
  },
  {
   "cell_type": "code",
   "execution_count": 11,
   "metadata": {
    "execution": {
     "iopub.execute_input": "2022-11-19T16:03:34.649454Z",
     "iopub.status.busy": "2022-11-19T16:03:34.648968Z",
     "iopub.status.idle": "2022-11-19T16:03:34.657931Z",
     "shell.execute_reply": "2022-11-19T16:03:34.656955Z",
     "shell.execute_reply.started": "2022-11-19T16:03:34.649409Z"
    }
   },
   "outputs": [],
   "source": [
    "df = df[(df[\"date\"] >= \"2018-8-1\")].reset_index(drop=True)"
   ]
  },
  {
   "cell_type": "code",
   "execution_count": 12,
   "metadata": {
    "execution": {
     "iopub.execute_input": "2022-11-19T16:03:34.670689Z",
     "iopub.status.busy": "2022-11-19T16:03:34.670285Z",
     "iopub.status.idle": "2022-11-19T16:03:34.690313Z",
     "shell.execute_reply": "2022-11-19T16:03:34.68932Z",
     "shell.execute_reply.started": "2022-11-19T16:03:34.670658Z"
    }
   },
   "outputs": [
    {
     "data": {
      "text/html": [
       "<div>\n",
       "<style scoped>\n",
       "    .dataframe tbody tr th:only-of-type {\n",
       "        vertical-align: middle;\n",
       "    }\n",
       "\n",
       "    .dataframe tbody tr th {\n",
       "        vertical-align: top;\n",
       "    }\n",
       "\n",
       "    .dataframe thead th {\n",
       "        text-align: right;\n",
       "    }\n",
       "</style>\n",
       "<table border=\"1\" class=\"dataframe\">\n",
       "  <thead>\n",
       "    <tr style=\"text-align: right;\">\n",
       "      <th></th>\n",
       "      <th>date</th>\n",
       "      <th>home_team</th>\n",
       "      <th>away_team</th>\n",
       "      <th>home_score</th>\n",
       "      <th>away_score</th>\n",
       "      <th>tournament</th>\n",
       "      <th>city</th>\n",
       "      <th>country</th>\n",
       "      <th>neutral</th>\n",
       "    </tr>\n",
       "  </thead>\n",
       "  <tbody>\n",
       "    <tr>\n",
       "      <th>3914</th>\n",
       "      <td>2022-12-04</td>\n",
       "      <td>England</td>\n",
       "      <td>Senegal</td>\n",
       "      <td>3</td>\n",
       "      <td>0</td>\n",
       "      <td>FIFA World Cup</td>\n",
       "      <td>Al Khor</td>\n",
       "      <td>Qatar</td>\n",
       "      <td>True</td>\n",
       "    </tr>\n",
       "    <tr>\n",
       "      <th>3915</th>\n",
       "      <td>2022-12-05</td>\n",
       "      <td>Japan</td>\n",
       "      <td>Croatia</td>\n",
       "      <td>1</td>\n",
       "      <td>1</td>\n",
       "      <td>FIFA World Cup</td>\n",
       "      <td>Al Wakrah</td>\n",
       "      <td>Qatar</td>\n",
       "      <td>True</td>\n",
       "    </tr>\n",
       "    <tr>\n",
       "      <th>3916</th>\n",
       "      <td>2022-12-05</td>\n",
       "      <td>Brazil</td>\n",
       "      <td>South Korea</td>\n",
       "      <td>4</td>\n",
       "      <td>1</td>\n",
       "      <td>FIFA World Cup</td>\n",
       "      <td>Doha</td>\n",
       "      <td>Qatar</td>\n",
       "      <td>True</td>\n",
       "    </tr>\n",
       "    <tr>\n",
       "      <th>3917</th>\n",
       "      <td>2022-12-06</td>\n",
       "      <td>Morocco</td>\n",
       "      <td>Spain</td>\n",
       "      <td>0</td>\n",
       "      <td>0</td>\n",
       "      <td>FIFA World Cup</td>\n",
       "      <td>Al Rayyan</td>\n",
       "      <td>Qatar</td>\n",
       "      <td>True</td>\n",
       "    </tr>\n",
       "    <tr>\n",
       "      <th>3918</th>\n",
       "      <td>2022-12-06</td>\n",
       "      <td>Portugal</td>\n",
       "      <td>Switzerland</td>\n",
       "      <td>6</td>\n",
       "      <td>1</td>\n",
       "      <td>FIFA World Cup</td>\n",
       "      <td>Lusail</td>\n",
       "      <td>Qatar</td>\n",
       "      <td>True</td>\n",
       "    </tr>\n",
       "  </tbody>\n",
       "</table>\n",
       "</div>"
      ],
      "text/plain": [
       "           date home_team    away_team  home_score  away_score  \\\n",
       "3914 2022-12-04   England      Senegal           3           0   \n",
       "3915 2022-12-05     Japan      Croatia           1           1   \n",
       "3916 2022-12-05    Brazil  South Korea           4           1   \n",
       "3917 2022-12-06   Morocco        Spain           0           0   \n",
       "3918 2022-12-06  Portugal  Switzerland           6           1   \n",
       "\n",
       "          tournament       city country  neutral  \n",
       "3914  FIFA World Cup    Al Khor   Qatar     True  \n",
       "3915  FIFA World Cup  Al Wakrah   Qatar     True  \n",
       "3916  FIFA World Cup       Doha   Qatar     True  \n",
       "3917  FIFA World Cup  Al Rayyan   Qatar     True  \n",
       "3918  FIFA World Cup     Lusail   Qatar     True  "
      ]
     },
     "execution_count": 12,
     "metadata": {},
     "output_type": "execute_result"
    }
   ],
   "source": [
    "df.sort_values(\"date\").tail()"
   ]
  },
  {
   "cell_type": "code",
   "execution_count": 13,
   "metadata": {
    "execution": {
     "iopub.execute_input": "2022-11-19T16:03:34.693849Z",
     "iopub.status.busy": "2022-11-19T16:03:34.692617Z",
     "iopub.status.idle": "2022-11-19T16:03:34.704288Z",
     "shell.execute_reply": "2022-11-19T16:03:34.703185Z",
     "shell.execute_reply.started": "2022-11-19T16:03:34.693802Z"
    }
   },
   "outputs": [
    {
     "data": {
      "text/plain": [
       "United States    46\n",
       "Mexico           43\n",
       "Qatar            43\n",
       "Japan            42\n",
       "South Korea      39\n",
       "                 ..\n",
       "Chameria          1\n",
       "Székely Land      1\n",
       "Catalonia         1\n",
       "Cascadia          1\n",
       "Orkney            1\n",
       "Name: home_team, Length: 247, dtype: int64"
      ]
     },
     "execution_count": 13,
     "metadata": {},
     "output_type": "execute_result"
    }
   ],
   "source": [
    "df.home_team.value_counts()"
   ]
  },
  {
   "cell_type": "markdown",
   "metadata": {},
   "source": [
    "fifa_ranking"
   ]
  },
  {
   "cell_type": "code",
   "execution_count": 14,
   "metadata": {
    "execution": {
     "iopub.execute_input": "2022-11-19T16:03:34.758609Z",
     "iopub.status.busy": "2022-11-19T16:03:34.758211Z",
     "iopub.status.idle": "2022-11-19T16:03:34.836501Z",
     "shell.execute_reply": "2022-11-19T16:03:34.835434Z",
     "shell.execute_reply.started": "2022-11-19T16:03:34.75858Z"
    }
   },
   "outputs": [],
   "source": [
    "rank = pd.read_csv('C:/Users/amema/OneDrive/Desktop/s3_/fifaranking/fifa_ranking-2022-10-06.csv')"
   ]
  },
  {
   "cell_type": "code",
   "execution_count": 15,
   "metadata": {
    "execution": {
     "iopub.execute_input": "2022-11-19T16:03:34.840135Z",
     "iopub.status.busy": "2022-11-19T16:03:34.839389Z",
     "iopub.status.idle": "2022-11-19T16:03:34.86248Z",
     "shell.execute_reply": "2022-11-19T16:03:34.861498Z",
     "shell.execute_reply.started": "2022-11-19T16:03:34.840087Z"
    }
   },
   "outputs": [],
   "source": [
    "rank[\"rank_date\"] = pd.to_datetime(rank[\"rank_date\"])\n",
    "rank = rank[(rank[\"rank_date\"] >= \"2018-8-1\")].reset_index(drop=True)\n"
   ]
  },
  {
   "cell_type": "markdown",
   "metadata": {},
   "source": [
    "Certaines équipes de la Coupe du monde ont des noms différents dans l'ensemble de données du classement. Donc, il faut s'adapter."
   ]
  },
  {
   "cell_type": "code",
   "execution_count": 16,
   "metadata": {
    "execution": {
     "iopub.execute_input": "2022-11-19T16:03:34.864878Z",
     "iopub.status.busy": "2022-11-19T16:03:34.864296Z",
     "iopub.status.idle": "2022-11-19T16:03:34.888943Z",
     "shell.execute_reply": "2022-11-19T16:03:34.887752Z",
     "shell.execute_reply.started": "2022-11-19T16:03:34.864833Z"
    }
   },
   "outputs": [],
   "source": [
    "rank[\"country_full\"] = rank[\"country_full\"].str.replace(\"IR Iran\", \"Iran\").str.replace(\"Korea Republic\", \"South Korea\").str.replace(\"USA\", \"United States\")"
   ]
  },
  {
   "cell_type": "code",
   "execution_count": 17,
   "metadata": {
    "execution": {
     "iopub.execute_input": "2022-11-19T16:03:34.890656Z",
     "iopub.status.busy": "2022-11-19T16:03:34.890284Z",
     "iopub.status.idle": "2022-11-19T16:03:35.708142Z",
     "shell.execute_reply": "2022-11-19T16:03:35.70659Z",
     "shell.execute_reply.started": "2022-11-19T16:03:34.890623Z"
    }
   },
   "outputs": [],
   "source": [
    "rank = rank.set_index(['rank_date']).groupby(['country_full'], group_keys=False).resample('D').first().fillna(method='ffill').reset_index()"
   ]
  },
  {
   "cell_type": "code",
   "execution_count": 18,
   "metadata": {
    "execution": {
     "iopub.execute_input": "2022-11-19T16:03:35.71312Z",
     "iopub.status.busy": "2022-11-19T16:03:35.712578Z",
     "iopub.status.idle": "2022-11-19T16:03:35.847112Z",
     "shell.execute_reply": "2022-11-19T16:03:35.846056Z",
     "shell.execute_reply.started": "2022-11-19T16:03:35.713057Z"
    }
   },
   "outputs": [],
   "source": [
    "df_wc_ranked = df.merge(rank[[\"country_full\", \"total_points\", \"previous_points\", \"rank\", \"rank_change\", \"rank_date\"]], left_on=[\"date\", \"home_team\"], right_on=[\"rank_date\", \"country_full\"]).drop([\"rank_date\", \"country_full\"], axis=1)\n",
    "\n",
    "df_wc_ranked = df_wc_ranked.merge(rank[[\"country_full\", \"total_points\", \"previous_points\", \"rank\", \"rank_change\", \"rank_date\"]], left_on=[\"date\", \"away_team\"], right_on=[\"rank_date\", \"country_full\"], suffixes=(\"_home\", \"_away\")).drop([\"rank_date\", \"country_full\"], axis=1)"
   ]
  },
  {
   "cell_type": "code",
   "execution_count": 19,
   "metadata": {
    "execution": {
     "iopub.execute_input": "2022-11-19T16:03:35.849534Z",
     "iopub.status.busy": "2022-11-19T16:03:35.848785Z",
     "iopub.status.idle": "2022-11-19T16:03:35.886676Z",
     "shell.execute_reply": "2022-11-19T16:03:35.885707Z",
     "shell.execute_reply.started": "2022-11-19T16:03:35.849488Z"
    }
   },
   "outputs": [
    {
     "data": {
      "text/html": [
       "<div>\n",
       "<style scoped>\n",
       "    .dataframe tbody tr th:only-of-type {\n",
       "        vertical-align: middle;\n",
       "    }\n",
       "\n",
       "    .dataframe tbody tr th {\n",
       "        vertical-align: top;\n",
       "    }\n",
       "\n",
       "    .dataframe thead th {\n",
       "        text-align: right;\n",
       "    }\n",
       "</style>\n",
       "<table border=\"1\" class=\"dataframe\">\n",
       "  <thead>\n",
       "    <tr style=\"text-align: right;\">\n",
       "      <th></th>\n",
       "      <th>date</th>\n",
       "      <th>home_team</th>\n",
       "      <th>away_team</th>\n",
       "      <th>home_score</th>\n",
       "      <th>away_score</th>\n",
       "      <th>tournament</th>\n",
       "      <th>city</th>\n",
       "      <th>country</th>\n",
       "      <th>neutral</th>\n",
       "      <th>total_points_home</th>\n",
       "      <th>previous_points_home</th>\n",
       "      <th>rank_home</th>\n",
       "      <th>rank_change_home</th>\n",
       "      <th>total_points_away</th>\n",
       "      <th>previous_points_away</th>\n",
       "      <th>rank_away</th>\n",
       "      <th>rank_change_away</th>\n",
       "    </tr>\n",
       "  </thead>\n",
       "  <tbody>\n",
       "    <tr>\n",
       "      <th>292</th>\n",
       "      <td>2018-11-16</td>\n",
       "      <td>Morocco</td>\n",
       "      <td>Cameroon</td>\n",
       "      <td>2</td>\n",
       "      <td>0</td>\n",
       "      <td>African Cup of Nations qualification</td>\n",
       "      <td>Casablanca</td>\n",
       "      <td>Morocco</td>\n",
       "      <td>False</td>\n",
       "      <td>1422.00</td>\n",
       "      <td>1425.00</td>\n",
       "      <td>47.0</td>\n",
       "      <td>2.0</td>\n",
       "      <td>1408.00</td>\n",
       "      <td>1408.00</td>\n",
       "      <td>51.0</td>\n",
       "      <td>1.0</td>\n",
       "    </tr>\n",
       "    <tr>\n",
       "      <th>364</th>\n",
       "      <td>2018-11-20</td>\n",
       "      <td>Tunisia</td>\n",
       "      <td>Morocco</td>\n",
       "      <td>0</td>\n",
       "      <td>1</td>\n",
       "      <td>Friendly</td>\n",
       "      <td>Radès</td>\n",
       "      <td>Tunisia</td>\n",
       "      <td>False</td>\n",
       "      <td>1515.00</td>\n",
       "      <td>1503.00</td>\n",
       "      <td>22.0</td>\n",
       "      <td>-1.0</td>\n",
       "      <td>1422.00</td>\n",
       "      <td>1425.00</td>\n",
       "      <td>47.0</td>\n",
       "      <td>2.0</td>\n",
       "    </tr>\n",
       "    <tr>\n",
       "      <th>550</th>\n",
       "      <td>2019-03-26</td>\n",
       "      <td>Morocco</td>\n",
       "      <td>Argentina</td>\n",
       "      <td>0</td>\n",
       "      <td>1</td>\n",
       "      <td>Friendly</td>\n",
       "      <td>Tangier</td>\n",
       "      <td>Morocco</td>\n",
       "      <td>False</td>\n",
       "      <td>1440.00</td>\n",
       "      <td>1440.00</td>\n",
       "      <td>43.0</td>\n",
       "      <td>3.0</td>\n",
       "      <td>1582.00</td>\n",
       "      <td>1582.00</td>\n",
       "      <td>11.0</td>\n",
       "      <td>0.0</td>\n",
       "    </tr>\n",
       "    <tr>\n",
       "      <th>701</th>\n",
       "      <td>2019-06-12</td>\n",
       "      <td>Morocco</td>\n",
       "      <td>Gambia</td>\n",
       "      <td>0</td>\n",
       "      <td>1</td>\n",
       "      <td>Friendly</td>\n",
       "      <td>Marrakech</td>\n",
       "      <td>Morocco</td>\n",
       "      <td>False</td>\n",
       "      <td>1429.00</td>\n",
       "      <td>1440.00</td>\n",
       "      <td>45.0</td>\n",
       "      <td>2.0</td>\n",
       "      <td>994.00</td>\n",
       "      <td>986.00</td>\n",
       "      <td>163.0</td>\n",
       "      <td>-3.0</td>\n",
       "    </tr>\n",
       "    <tr>\n",
       "      <th>718</th>\n",
       "      <td>2019-06-16</td>\n",
       "      <td>Morocco</td>\n",
       "      <td>Zambia</td>\n",
       "      <td>2</td>\n",
       "      <td>3</td>\n",
       "      <td>Friendly</td>\n",
       "      <td>Marrakech</td>\n",
       "      <td>Morocco</td>\n",
       "      <td>False</td>\n",
       "      <td>1429.00</td>\n",
       "      <td>1429.00</td>\n",
       "      <td>47.0</td>\n",
       "      <td>2.0</td>\n",
       "      <td>1298.00</td>\n",
       "      <td>1302.00</td>\n",
       "      <td>81.0</td>\n",
       "      <td>2.0</td>\n",
       "    </tr>\n",
       "    <tr>\n",
       "      <th>745</th>\n",
       "      <td>2019-06-23</td>\n",
       "      <td>Morocco</td>\n",
       "      <td>Namibia</td>\n",
       "      <td>1</td>\n",
       "      <td>0</td>\n",
       "      <td>African Cup of Nations</td>\n",
       "      <td>Cairo</td>\n",
       "      <td>Egypt</td>\n",
       "      <td>True</td>\n",
       "      <td>1429.00</td>\n",
       "      <td>1429.00</td>\n",
       "      <td>47.0</td>\n",
       "      <td>2.0</td>\n",
       "      <td>1182.00</td>\n",
       "      <td>1181.00</td>\n",
       "      <td>113.0</td>\n",
       "      <td>0.0</td>\n",
       "    </tr>\n",
       "    <tr>\n",
       "      <th>782</th>\n",
       "      <td>2019-07-01</td>\n",
       "      <td>South Africa</td>\n",
       "      <td>Morocco</td>\n",
       "      <td>0</td>\n",
       "      <td>1</td>\n",
       "      <td>African Cup of Nations</td>\n",
       "      <td>Cairo</td>\n",
       "      <td>Egypt</td>\n",
       "      <td>True</td>\n",
       "      <td>1335.00</td>\n",
       "      <td>1335.00</td>\n",
       "      <td>72.0</td>\n",
       "      <td>-1.0</td>\n",
       "      <td>1429.00</td>\n",
       "      <td>1429.00</td>\n",
       "      <td>47.0</td>\n",
       "      <td>2.0</td>\n",
       "    </tr>\n",
       "    <tr>\n",
       "      <th>791</th>\n",
       "      <td>2019-07-05</td>\n",
       "      <td>Morocco</td>\n",
       "      <td>Benin</td>\n",
       "      <td>1</td>\n",
       "      <td>1</td>\n",
       "      <td>African Cup of Nations</td>\n",
       "      <td>Cairo</td>\n",
       "      <td>Egypt</td>\n",
       "      <td>True</td>\n",
       "      <td>1429.00</td>\n",
       "      <td>1429.00</td>\n",
       "      <td>47.0</td>\n",
       "      <td>2.0</td>\n",
       "      <td>1273.00</td>\n",
       "      <td>1267.00</td>\n",
       "      <td>88.0</td>\n",
       "      <td>-3.0</td>\n",
       "    </tr>\n",
       "    <tr>\n",
       "      <th>907</th>\n",
       "      <td>2019-09-06</td>\n",
       "      <td>Morocco</td>\n",
       "      <td>Burkina Faso</td>\n",
       "      <td>1</td>\n",
       "      <td>1</td>\n",
       "      <td>Friendly</td>\n",
       "      <td>Marrakech</td>\n",
       "      <td>Morocco</td>\n",
       "      <td>False</td>\n",
       "      <td>1461.00</td>\n",
       "      <td>1429.00</td>\n",
       "      <td>41.0</td>\n",
       "      <td>-6.0</td>\n",
       "      <td>1381.00</td>\n",
       "      <td>1381.00</td>\n",
       "      <td>61.0</td>\n",
       "      <td>2.0</td>\n",
       "    </tr>\n",
       "    <tr>\n",
       "      <th>972</th>\n",
       "      <td>2019-09-10</td>\n",
       "      <td>Morocco</td>\n",
       "      <td>Niger</td>\n",
       "      <td>1</td>\n",
       "      <td>0</td>\n",
       "      <td>Friendly</td>\n",
       "      <td>Marrakech</td>\n",
       "      <td>Morocco</td>\n",
       "      <td>False</td>\n",
       "      <td>1461.00</td>\n",
       "      <td>1429.00</td>\n",
       "      <td>41.0</td>\n",
       "      <td>-6.0</td>\n",
       "      <td>1209.00</td>\n",
       "      <td>1209.00</td>\n",
       "      <td>104.0</td>\n",
       "      <td>0.0</td>\n",
       "    </tr>\n",
       "    <tr>\n",
       "      <th>1011</th>\n",
       "      <td>2019-09-21</td>\n",
       "      <td>Algeria</td>\n",
       "      <td>Morocco</td>\n",
       "      <td>0</td>\n",
       "      <td>0</td>\n",
       "      <td>African Nations Championship qualification</td>\n",
       "      <td>Blida</td>\n",
       "      <td>Algeria</td>\n",
       "      <td>False</td>\n",
       "      <td>1466.00</td>\n",
       "      <td>1463.00</td>\n",
       "      <td>38.0</td>\n",
       "      <td>-2.0</td>\n",
       "      <td>1463.00</td>\n",
       "      <td>1461.00</td>\n",
       "      <td>39.0</td>\n",
       "      <td>-2.0</td>\n",
       "    </tr>\n",
       "    <tr>\n",
       "      <th>1076</th>\n",
       "      <td>2019-10-11</td>\n",
       "      <td>Morocco</td>\n",
       "      <td>Libya</td>\n",
       "      <td>1</td>\n",
       "      <td>1</td>\n",
       "      <td>Friendly</td>\n",
       "      <td>Morocco</td>\n",
       "      <td>Morocco</td>\n",
       "      <td>False</td>\n",
       "      <td>1463.00</td>\n",
       "      <td>1461.00</td>\n",
       "      <td>39.0</td>\n",
       "      <td>-2.0</td>\n",
       "      <td>1212.00</td>\n",
       "      <td>1207.00</td>\n",
       "      <td>102.0</td>\n",
       "      <td>-3.0</td>\n",
       "    </tr>\n",
       "    <tr>\n",
       "      <th>1147</th>\n",
       "      <td>2019-10-15</td>\n",
       "      <td>Morocco</td>\n",
       "      <td>Gabon</td>\n",
       "      <td>2</td>\n",
       "      <td>3</td>\n",
       "      <td>Friendly</td>\n",
       "      <td>Morocco</td>\n",
       "      <td>Morocco</td>\n",
       "      <td>False</td>\n",
       "      <td>1463.00</td>\n",
       "      <td>1461.00</td>\n",
       "      <td>39.0</td>\n",
       "      <td>-2.0</td>\n",
       "      <td>1272.00</td>\n",
       "      <td>1272.00</td>\n",
       "      <td>88.0</td>\n",
       "      <td>-2.0</td>\n",
       "    </tr>\n",
       "    <tr>\n",
       "      <th>1170</th>\n",
       "      <td>2019-10-19</td>\n",
       "      <td>Morocco</td>\n",
       "      <td>Algeria</td>\n",
       "      <td>3</td>\n",
       "      <td>0</td>\n",
       "      <td>African Nations Championship qualification</td>\n",
       "      <td>Berkane</td>\n",
       "      <td>Morocco</td>\n",
       "      <td>False</td>\n",
       "      <td>1463.00</td>\n",
       "      <td>1461.00</td>\n",
       "      <td>39.0</td>\n",
       "      <td>-2.0</td>\n",
       "      <td>1466.00</td>\n",
       "      <td>1463.00</td>\n",
       "      <td>38.0</td>\n",
       "      <td>-2.0</td>\n",
       "    </tr>\n",
       "    <tr>\n",
       "      <th>1228</th>\n",
       "      <td>2019-11-15</td>\n",
       "      <td>Morocco</td>\n",
       "      <td>Mauritania</td>\n",
       "      <td>0</td>\n",
       "      <td>0</td>\n",
       "      <td>African Cup of Nations qualification</td>\n",
       "      <td>Rabat</td>\n",
       "      <td>Morocco</td>\n",
       "      <td>False</td>\n",
       "      <td>1457.00</td>\n",
       "      <td>1463.00</td>\n",
       "      <td>42.0</td>\n",
       "      <td>3.0</td>\n",
       "      <td>1205.00</td>\n",
       "      <td>1206.00</td>\n",
       "      <td>105.0</td>\n",
       "      <td>0.0</td>\n",
       "    </tr>\n",
       "    <tr>\n",
       "      <th>1299</th>\n",
       "      <td>2019-11-19</td>\n",
       "      <td>Burundi</td>\n",
       "      <td>Morocco</td>\n",
       "      <td>0</td>\n",
       "      <td>3</td>\n",
       "      <td>African Cup of Nations qualification</td>\n",
       "      <td>Bujumbura</td>\n",
       "      <td>Burundi</td>\n",
       "      <td>False</td>\n",
       "      <td>1063.00</td>\n",
       "      <td>1065.00</td>\n",
       "      <td>143.0</td>\n",
       "      <td>-1.0</td>\n",
       "      <td>1457.00</td>\n",
       "      <td>1463.00</td>\n",
       "      <td>42.0</td>\n",
       "      <td>3.0</td>\n",
       "    </tr>\n",
       "    <tr>\n",
       "      <th>1458</th>\n",
       "      <td>2020-10-09</td>\n",
       "      <td>Morocco</td>\n",
       "      <td>Senegal</td>\n",
       "      <td>3</td>\n",
       "      <td>1</td>\n",
       "      <td>Friendly</td>\n",
       "      <td>Rabat</td>\n",
       "      <td>Morocco</td>\n",
       "      <td>False</td>\n",
       "      <td>1456.00</td>\n",
       "      <td>1456.00</td>\n",
       "      <td>43.0</td>\n",
       "      <td>0.0</td>\n",
       "      <td>1555.00</td>\n",
       "      <td>1555.00</td>\n",
       "      <td>20.0</td>\n",
       "      <td>0.0</td>\n",
       "    </tr>\n",
       "    <tr>\n",
       "      <th>1729</th>\n",
       "      <td>2021-03-26</td>\n",
       "      <td>Mauritania</td>\n",
       "      <td>Morocco</td>\n",
       "      <td>0</td>\n",
       "      <td>0</td>\n",
       "      <td>African Cup of Nations qualification</td>\n",
       "      <td>Nouakchott</td>\n",
       "      <td>Mauritania</td>\n",
       "      <td>False</td>\n",
       "      <td>1207.00</td>\n",
       "      <td>1207.00</td>\n",
       "      <td>101.0</td>\n",
       "      <td>0.0</td>\n",
       "      <td>1481.00</td>\n",
       "      <td>1474.00</td>\n",
       "      <td>33.0</td>\n",
       "      <td>-2.0</td>\n",
       "    </tr>\n",
       "    <tr>\n",
       "      <th>1813</th>\n",
       "      <td>2021-03-30</td>\n",
       "      <td>Morocco</td>\n",
       "      <td>Burundi</td>\n",
       "      <td>1</td>\n",
       "      <td>0</td>\n",
       "      <td>African Cup of Nations qualification</td>\n",
       "      <td>Rabat</td>\n",
       "      <td>Morocco</td>\n",
       "      <td>False</td>\n",
       "      <td>1481.00</td>\n",
       "      <td>1474.00</td>\n",
       "      <td>33.0</td>\n",
       "      <td>-2.0</td>\n",
       "      <td>1078.00</td>\n",
       "      <td>1078.00</td>\n",
       "      <td>138.0</td>\n",
       "      <td>0.0</td>\n",
       "    </tr>\n",
       "    <tr>\n",
       "      <th>1962</th>\n",
       "      <td>2021-06-08</td>\n",
       "      <td>Morocco</td>\n",
       "      <td>Ghana</td>\n",
       "      <td>1</td>\n",
       "      <td>0</td>\n",
       "      <td>Friendly</td>\n",
       "      <td>Rabat</td>\n",
       "      <td>Morocco</td>\n",
       "      <td>False</td>\n",
       "      <td>1479.32</td>\n",
       "      <td>1479.32</td>\n",
       "      <td>34.0</td>\n",
       "      <td>0.0</td>\n",
       "      <td>1425.26</td>\n",
       "      <td>1425.26</td>\n",
       "      <td>49.0</td>\n",
       "      <td>0.0</td>\n",
       "    </tr>\n",
       "    <tr>\n",
       "      <th>2007</th>\n",
       "      <td>2021-06-12</td>\n",
       "      <td>Morocco</td>\n",
       "      <td>Burkina Faso</td>\n",
       "      <td>1</td>\n",
       "      <td>0</td>\n",
       "      <td>Friendly</td>\n",
       "      <td>Rabat</td>\n",
       "      <td>Morocco</td>\n",
       "      <td>False</td>\n",
       "      <td>1479.32</td>\n",
       "      <td>1479.32</td>\n",
       "      <td>34.0</td>\n",
       "      <td>0.0</td>\n",
       "      <td>1392.90</td>\n",
       "      <td>1392.90</td>\n",
       "      <td>60.0</td>\n",
       "      <td>0.0</td>\n",
       "    </tr>\n",
       "    <tr>\n",
       "      <th>2203</th>\n",
       "      <td>2021-09-02</td>\n",
       "      <td>Morocco</td>\n",
       "      <td>Sudan</td>\n",
       "      <td>2</td>\n",
       "      <td>0</td>\n",
       "      <td>FIFA World Cup qualification</td>\n",
       "      <td>Rabat</td>\n",
       "      <td>Morocco</td>\n",
       "      <td>False</td>\n",
       "      <td>1487.89</td>\n",
       "      <td>1479.32</td>\n",
       "      <td>32.0</td>\n",
       "      <td>-2.0</td>\n",
       "      <td>1147.87</td>\n",
       "      <td>1149.14</td>\n",
       "      <td>121.0</td>\n",
       "      <td>-2.0</td>\n",
       "    </tr>\n",
       "    <tr>\n",
       "      <th>2348</th>\n",
       "      <td>2021-10-06</td>\n",
       "      <td>Morocco</td>\n",
       "      <td>Guinea-Bissau</td>\n",
       "      <td>5</td>\n",
       "      <td>0</td>\n",
       "      <td>FIFA World Cup qualification</td>\n",
       "      <td>Rabat</td>\n",
       "      <td>Morocco</td>\n",
       "      <td>False</td>\n",
       "      <td>1493.23</td>\n",
       "      <td>1487.89</td>\n",
       "      <td>33.0</td>\n",
       "      <td>1.0</td>\n",
       "      <td>1186.61</td>\n",
       "      <td>1171.19</td>\n",
       "      <td>105.0</td>\n",
       "      <td>-4.0</td>\n",
       "    </tr>\n",
       "    <tr>\n",
       "      <th>2417</th>\n",
       "      <td>2021-10-09</td>\n",
       "      <td>Morocco</td>\n",
       "      <td>Guinea-Bissau</td>\n",
       "      <td>3</td>\n",
       "      <td>0</td>\n",
       "      <td>FIFA World Cup qualification</td>\n",
       "      <td>Casablanca</td>\n",
       "      <td>Morocco</td>\n",
       "      <td>False</td>\n",
       "      <td>1493.23</td>\n",
       "      <td>1487.89</td>\n",
       "      <td>33.0</td>\n",
       "      <td>1.0</td>\n",
       "      <td>1186.61</td>\n",
       "      <td>1171.19</td>\n",
       "      <td>105.0</td>\n",
       "      <td>-4.0</td>\n",
       "    </tr>\n",
       "    <tr>\n",
       "      <th>2482</th>\n",
       "      <td>2021-10-12</td>\n",
       "      <td>Morocco</td>\n",
       "      <td>Guinea</td>\n",
       "      <td>4</td>\n",
       "      <td>1</td>\n",
       "      <td>FIFA World Cup qualification</td>\n",
       "      <td>Agadir</td>\n",
       "      <td>Morocco</td>\n",
       "      <td>False</td>\n",
       "      <td>1493.23</td>\n",
       "      <td>1487.89</td>\n",
       "      <td>33.0</td>\n",
       "      <td>1.0</td>\n",
       "      <td>1326.09</td>\n",
       "      <td>1329.79</td>\n",
       "      <td>76.0</td>\n",
       "      <td>0.0</td>\n",
       "    </tr>\n",
       "    <tr>\n",
       "      <th>2536</th>\n",
       "      <td>2021-11-12</td>\n",
       "      <td>Morocco</td>\n",
       "      <td>Sudan</td>\n",
       "      <td>3</td>\n",
       "      <td>0</td>\n",
       "      <td>FIFA World Cup qualification</td>\n",
       "      <td>Rabat</td>\n",
       "      <td>Morocco</td>\n",
       "      <td>False</td>\n",
       "      <td>1513.00</td>\n",
       "      <td>1493.23</td>\n",
       "      <td>29.0</td>\n",
       "      <td>-4.0</td>\n",
       "      <td>1139.67</td>\n",
       "      <td>1130.91</td>\n",
       "      <td>123.0</td>\n",
       "      <td>-4.0</td>\n",
       "    </tr>\n",
       "    <tr>\n",
       "      <th>2610</th>\n",
       "      <td>2021-11-16</td>\n",
       "      <td>Morocco</td>\n",
       "      <td>Guinea</td>\n",
       "      <td>3</td>\n",
       "      <td>0</td>\n",
       "      <td>FIFA World Cup qualification</td>\n",
       "      <td>Casablanca</td>\n",
       "      <td>Morocco</td>\n",
       "      <td>False</td>\n",
       "      <td>1513.00</td>\n",
       "      <td>1493.23</td>\n",
       "      <td>29.0</td>\n",
       "      <td>-4.0</td>\n",
       "      <td>1309.15</td>\n",
       "      <td>1326.09</td>\n",
       "      <td>79.0</td>\n",
       "      <td>3.0</td>\n",
       "    </tr>\n",
       "    <tr>\n",
       "      <th>2639</th>\n",
       "      <td>2021-12-01</td>\n",
       "      <td>Morocco</td>\n",
       "      <td>Palestine</td>\n",
       "      <td>4</td>\n",
       "      <td>0</td>\n",
       "      <td>Arab Cup</td>\n",
       "      <td>Al Wakrah</td>\n",
       "      <td>Qatar</td>\n",
       "      <td>True</td>\n",
       "      <td>1525.50</td>\n",
       "      <td>1513.00</td>\n",
       "      <td>28.0</td>\n",
       "      <td>-1.0</td>\n",
       "      <td>1211.32</td>\n",
       "      <td>1211.32</td>\n",
       "      <td>98.0</td>\n",
       "      <td>-2.0</td>\n",
       "    </tr>\n",
       "    <tr>\n",
       "      <th>2648</th>\n",
       "      <td>2021-12-04</td>\n",
       "      <td>Jordan</td>\n",
       "      <td>Morocco</td>\n",
       "      <td>0</td>\n",
       "      <td>4</td>\n",
       "      <td>Arab Cup</td>\n",
       "      <td>Al Rayyan</td>\n",
       "      <td>Qatar</td>\n",
       "      <td>True</td>\n",
       "      <td>1252.95</td>\n",
       "      <td>1254.12</td>\n",
       "      <td>91.0</td>\n",
       "      <td>1.0</td>\n",
       "      <td>1525.50</td>\n",
       "      <td>1513.00</td>\n",
       "      <td>28.0</td>\n",
       "      <td>-1.0</td>\n",
       "    </tr>\n",
       "    <tr>\n",
       "      <th>2657</th>\n",
       "      <td>2021-12-07</td>\n",
       "      <td>Morocco</td>\n",
       "      <td>Saudi Arabia</td>\n",
       "      <td>1</td>\n",
       "      <td>0</td>\n",
       "      <td>Arab Cup</td>\n",
       "      <td>Doha</td>\n",
       "      <td>Qatar</td>\n",
       "      <td>True</td>\n",
       "      <td>1525.50</td>\n",
       "      <td>1513.00</td>\n",
       "      <td>28.0</td>\n",
       "      <td>-1.0</td>\n",
       "      <td>1441.17</td>\n",
       "      <td>1432.21</td>\n",
       "      <td>48.0</td>\n",
       "      <td>-1.0</td>\n",
       "    </tr>\n",
       "    <tr>\n",
       "      <th>2665</th>\n",
       "      <td>2021-12-11</td>\n",
       "      <td>Morocco</td>\n",
       "      <td>Algeria</td>\n",
       "      <td>2</td>\n",
       "      <td>2</td>\n",
       "      <td>Arab Cup</td>\n",
       "      <td>Doha</td>\n",
       "      <td>Qatar</td>\n",
       "      <td>True</td>\n",
       "      <td>1525.50</td>\n",
       "      <td>1513.00</td>\n",
       "      <td>28.0</td>\n",
       "      <td>-1.0</td>\n",
       "      <td>1508.54</td>\n",
       "      <td>1509.04</td>\n",
       "      <td>32.0</td>\n",
       "      <td>2.0</td>\n",
       "    </tr>\n",
       "    <tr>\n",
       "      <th>2684</th>\n",
       "      <td>2022-01-10</td>\n",
       "      <td>Morocco</td>\n",
       "      <td>Ghana</td>\n",
       "      <td>1</td>\n",
       "      <td>0</td>\n",
       "      <td>African Cup of Nations</td>\n",
       "      <td>Yaoundé</td>\n",
       "      <td>Cameroon</td>\n",
       "      <td>True</td>\n",
       "      <td>1529.93</td>\n",
       "      <td>1525.50</td>\n",
       "      <td>28.0</td>\n",
       "      <td>0.0</td>\n",
       "      <td>1428.97</td>\n",
       "      <td>1428.97</td>\n",
       "      <td>52.0</td>\n",
       "      <td>0.0</td>\n",
       "    </tr>\n",
       "    <tr>\n",
       "      <th>2695</th>\n",
       "      <td>2022-01-14</td>\n",
       "      <td>Morocco</td>\n",
       "      <td>Comoros</td>\n",
       "      <td>2</td>\n",
       "      <td>0</td>\n",
       "      <td>African Cup of Nations</td>\n",
       "      <td>Yaoundé</td>\n",
       "      <td>Cameroon</td>\n",
       "      <td>True</td>\n",
       "      <td>1529.93</td>\n",
       "      <td>1525.50</td>\n",
       "      <td>28.0</td>\n",
       "      <td>0.0</td>\n",
       "      <td>1117.65</td>\n",
       "      <td>1117.65</td>\n",
       "      <td>132.0</td>\n",
       "      <td>0.0</td>\n",
       "    </tr>\n",
       "    <tr>\n",
       "      <th>2709</th>\n",
       "      <td>2022-01-18</td>\n",
       "      <td>Gabon</td>\n",
       "      <td>Morocco</td>\n",
       "      <td>2</td>\n",
       "      <td>2</td>\n",
       "      <td>African Cup of Nations</td>\n",
       "      <td>Yaoundé</td>\n",
       "      <td>Cameroon</td>\n",
       "      <td>True</td>\n",
       "      <td>1262.00</td>\n",
       "      <td>1262.00</td>\n",
       "      <td>89.0</td>\n",
       "      <td>0.0</td>\n",
       "      <td>1529.93</td>\n",
       "      <td>1525.50</td>\n",
       "      <td>28.0</td>\n",
       "      <td>0.0</td>\n",
       "    </tr>\n",
       "    <tr>\n",
       "      <th>2724</th>\n",
       "      <td>2022-01-25</td>\n",
       "      <td>Morocco</td>\n",
       "      <td>Malawi</td>\n",
       "      <td>2</td>\n",
       "      <td>1</td>\n",
       "      <td>African Cup of Nations</td>\n",
       "      <td>Yaoundé</td>\n",
       "      <td>Cameroon</td>\n",
       "      <td>True</td>\n",
       "      <td>1529.93</td>\n",
       "      <td>1525.50</td>\n",
       "      <td>28.0</td>\n",
       "      <td>0.0</td>\n",
       "      <td>1127.21</td>\n",
       "      <td>1127.21</td>\n",
       "      <td>129.0</td>\n",
       "      <td>0.0</td>\n",
       "    </tr>\n",
       "    <tr>\n",
       "      <th>2752</th>\n",
       "      <td>2022-01-30</td>\n",
       "      <td>Egypt</td>\n",
       "      <td>Morocco</td>\n",
       "      <td>2</td>\n",
       "      <td>1</td>\n",
       "      <td>African Cup of Nations</td>\n",
       "      <td>Yaoundé</td>\n",
       "      <td>Cameroon</td>\n",
       "      <td>True</td>\n",
       "      <td>1451.77</td>\n",
       "      <td>1449.51</td>\n",
       "      <td>45.0</td>\n",
       "      <td>0.0</td>\n",
       "      <td>1529.93</td>\n",
       "      <td>1525.50</td>\n",
       "      <td>28.0</td>\n",
       "      <td>0.0</td>\n",
       "    </tr>\n",
       "    <tr>\n",
       "      <th>2967</th>\n",
       "      <td>2022-06-01</td>\n",
       "      <td>United States</td>\n",
       "      <td>Morocco</td>\n",
       "      <td>3</td>\n",
       "      <td>0</td>\n",
       "      <td>Friendly</td>\n",
       "      <td>Cincinnati</td>\n",
       "      <td>United States</td>\n",
       "      <td>False</td>\n",
       "      <td>1633.72</td>\n",
       "      <td>1643.34</td>\n",
       "      <td>15.0</td>\n",
       "      <td>2.0</td>\n",
       "      <td>1551.88</td>\n",
       "      <td>1547.42</td>\n",
       "      <td>24.0</td>\n",
       "      <td>0.0</td>\n",
       "    </tr>\n",
       "    <tr>\n",
       "      <th>3097</th>\n",
       "      <td>2022-06-09</td>\n",
       "      <td>Morocco</td>\n",
       "      <td>South Africa</td>\n",
       "      <td>2</td>\n",
       "      <td>1</td>\n",
       "      <td>African Cup of Nations qualification</td>\n",
       "      <td>Rabat</td>\n",
       "      <td>Morocco</td>\n",
       "      <td>False</td>\n",
       "      <td>1551.88</td>\n",
       "      <td>1547.42</td>\n",
       "      <td>24.0</td>\n",
       "      <td>0.0</td>\n",
       "      <td>1356.01</td>\n",
       "      <td>1358.24</td>\n",
       "      <td>69.0</td>\n",
       "      <td>1.0</td>\n",
       "    </tr>\n",
       "    <tr>\n",
       "      <th>3166</th>\n",
       "      <td>2022-06-13</td>\n",
       "      <td>Morocco</td>\n",
       "      <td>Liberia</td>\n",
       "      <td>2</td>\n",
       "      <td>0</td>\n",
       "      <td>African Cup of Nations qualification</td>\n",
       "      <td>Casablanca</td>\n",
       "      <td>Morocco</td>\n",
       "      <td>False</td>\n",
       "      <td>1551.88</td>\n",
       "      <td>1547.42</td>\n",
       "      <td>24.0</td>\n",
       "      <td>0.0</td>\n",
       "      <td>1050.50</td>\n",
       "      <td>1058.28</td>\n",
       "      <td>149.0</td>\n",
       "      <td>4.0</td>\n",
       "    </tr>\n",
       "    <tr>\n",
       "      <th>3243</th>\n",
       "      <td>2022-09-23</td>\n",
       "      <td>Morocco</td>\n",
       "      <td>Chile</td>\n",
       "      <td>2</td>\n",
       "      <td>0</td>\n",
       "      <td>Friendly</td>\n",
       "      <td>Barcelona</td>\n",
       "      <td>Spain</td>\n",
       "      <td>True</td>\n",
       "      <td>1558.35</td>\n",
       "      <td>1558.90</td>\n",
       "      <td>23.0</td>\n",
       "      <td>1.0</td>\n",
       "      <td>1514.86</td>\n",
       "      <td>1514.86</td>\n",
       "      <td>29.0</td>\n",
       "      <td>0.0</td>\n",
       "    </tr>\n",
       "    <tr>\n",
       "      <th>3322</th>\n",
       "      <td>2022-09-27</td>\n",
       "      <td>Paraguay</td>\n",
       "      <td>Morocco</td>\n",
       "      <td>0</td>\n",
       "      <td>0</td>\n",
       "      <td>Friendly</td>\n",
       "      <td>Sevilla</td>\n",
       "      <td>Spain</td>\n",
       "      <td>True</td>\n",
       "      <td>1440.13</td>\n",
       "      <td>1440.13</td>\n",
       "      <td>50.0</td>\n",
       "      <td>0.0</td>\n",
       "      <td>1558.35</td>\n",
       "      <td>1558.90</td>\n",
       "      <td>23.0</td>\n",
       "      <td>1.0</td>\n",
       "    </tr>\n",
       "  </tbody>\n",
       "</table>\n",
       "</div>"
      ],
      "text/plain": [
       "           date      home_team      away_team  home_score  away_score  \\\n",
       "292  2018-11-16        Morocco       Cameroon           2           0   \n",
       "364  2018-11-20        Tunisia        Morocco           0           1   \n",
       "550  2019-03-26        Morocco      Argentina           0           1   \n",
       "701  2019-06-12        Morocco         Gambia           0           1   \n",
       "718  2019-06-16        Morocco         Zambia           2           3   \n",
       "745  2019-06-23        Morocco        Namibia           1           0   \n",
       "782  2019-07-01   South Africa        Morocco           0           1   \n",
       "791  2019-07-05        Morocco          Benin           1           1   \n",
       "907  2019-09-06        Morocco   Burkina Faso           1           1   \n",
       "972  2019-09-10        Morocco          Niger           1           0   \n",
       "1011 2019-09-21        Algeria        Morocco           0           0   \n",
       "1076 2019-10-11        Morocco          Libya           1           1   \n",
       "1147 2019-10-15        Morocco          Gabon           2           3   \n",
       "1170 2019-10-19        Morocco        Algeria           3           0   \n",
       "1228 2019-11-15        Morocco     Mauritania           0           0   \n",
       "1299 2019-11-19        Burundi        Morocco           0           3   \n",
       "1458 2020-10-09        Morocco        Senegal           3           1   \n",
       "1729 2021-03-26     Mauritania        Morocco           0           0   \n",
       "1813 2021-03-30        Morocco        Burundi           1           0   \n",
       "1962 2021-06-08        Morocco          Ghana           1           0   \n",
       "2007 2021-06-12        Morocco   Burkina Faso           1           0   \n",
       "2203 2021-09-02        Morocco          Sudan           2           0   \n",
       "2348 2021-10-06        Morocco  Guinea-Bissau           5           0   \n",
       "2417 2021-10-09        Morocco  Guinea-Bissau           3           0   \n",
       "2482 2021-10-12        Morocco         Guinea           4           1   \n",
       "2536 2021-11-12        Morocco          Sudan           3           0   \n",
       "2610 2021-11-16        Morocco         Guinea           3           0   \n",
       "2639 2021-12-01        Morocco      Palestine           4           0   \n",
       "2648 2021-12-04         Jordan        Morocco           0           4   \n",
       "2657 2021-12-07        Morocco   Saudi Arabia           1           0   \n",
       "2665 2021-12-11        Morocco        Algeria           2           2   \n",
       "2684 2022-01-10        Morocco          Ghana           1           0   \n",
       "2695 2022-01-14        Morocco        Comoros           2           0   \n",
       "2709 2022-01-18          Gabon        Morocco           2           2   \n",
       "2724 2022-01-25        Morocco         Malawi           2           1   \n",
       "2752 2022-01-30          Egypt        Morocco           2           1   \n",
       "2967 2022-06-01  United States        Morocco           3           0   \n",
       "3097 2022-06-09        Morocco   South Africa           2           1   \n",
       "3166 2022-06-13        Morocco        Liberia           2           0   \n",
       "3243 2022-09-23        Morocco          Chile           2           0   \n",
       "3322 2022-09-27       Paraguay        Morocco           0           0   \n",
       "\n",
       "                                      tournament        city        country  \\\n",
       "292         African Cup of Nations qualification  Casablanca        Morocco   \n",
       "364                                     Friendly       Radès        Tunisia   \n",
       "550                                     Friendly     Tangier        Morocco   \n",
       "701                                     Friendly   Marrakech        Morocco   \n",
       "718                                     Friendly   Marrakech        Morocco   \n",
       "745                       African Cup of Nations       Cairo          Egypt   \n",
       "782                       African Cup of Nations       Cairo          Egypt   \n",
       "791                       African Cup of Nations       Cairo          Egypt   \n",
       "907                                     Friendly   Marrakech        Morocco   \n",
       "972                                     Friendly   Marrakech        Morocco   \n",
       "1011  African Nations Championship qualification       Blida        Algeria   \n",
       "1076                                    Friendly     Morocco        Morocco   \n",
       "1147                                    Friendly     Morocco        Morocco   \n",
       "1170  African Nations Championship qualification     Berkane        Morocco   \n",
       "1228        African Cup of Nations qualification       Rabat        Morocco   \n",
       "1299        African Cup of Nations qualification   Bujumbura        Burundi   \n",
       "1458                                    Friendly       Rabat        Morocco   \n",
       "1729        African Cup of Nations qualification  Nouakchott     Mauritania   \n",
       "1813        African Cup of Nations qualification       Rabat        Morocco   \n",
       "1962                                    Friendly       Rabat        Morocco   \n",
       "2007                                    Friendly       Rabat        Morocco   \n",
       "2203                FIFA World Cup qualification       Rabat        Morocco   \n",
       "2348                FIFA World Cup qualification       Rabat        Morocco   \n",
       "2417                FIFA World Cup qualification  Casablanca        Morocco   \n",
       "2482                FIFA World Cup qualification      Agadir        Morocco   \n",
       "2536                FIFA World Cup qualification       Rabat        Morocco   \n",
       "2610                FIFA World Cup qualification  Casablanca        Morocco   \n",
       "2639                                    Arab Cup   Al Wakrah          Qatar   \n",
       "2648                                    Arab Cup   Al Rayyan          Qatar   \n",
       "2657                                    Arab Cup        Doha          Qatar   \n",
       "2665                                    Arab Cup        Doha          Qatar   \n",
       "2684                      African Cup of Nations     Yaoundé       Cameroon   \n",
       "2695                      African Cup of Nations     Yaoundé       Cameroon   \n",
       "2709                      African Cup of Nations     Yaoundé       Cameroon   \n",
       "2724                      African Cup of Nations     Yaoundé       Cameroon   \n",
       "2752                      African Cup of Nations     Yaoundé       Cameroon   \n",
       "2967                                    Friendly  Cincinnati  United States   \n",
       "3097        African Cup of Nations qualification       Rabat        Morocco   \n",
       "3166        African Cup of Nations qualification  Casablanca        Morocco   \n",
       "3243                                    Friendly   Barcelona          Spain   \n",
       "3322                                    Friendly     Sevilla          Spain   \n",
       "\n",
       "      neutral  total_points_home  previous_points_home  rank_home  \\\n",
       "292     False            1422.00               1425.00       47.0   \n",
       "364     False            1515.00               1503.00       22.0   \n",
       "550     False            1440.00               1440.00       43.0   \n",
       "701     False            1429.00               1440.00       45.0   \n",
       "718     False            1429.00               1429.00       47.0   \n",
       "745      True            1429.00               1429.00       47.0   \n",
       "782      True            1335.00               1335.00       72.0   \n",
       "791      True            1429.00               1429.00       47.0   \n",
       "907     False            1461.00               1429.00       41.0   \n",
       "972     False            1461.00               1429.00       41.0   \n",
       "1011    False            1466.00               1463.00       38.0   \n",
       "1076    False            1463.00               1461.00       39.0   \n",
       "1147    False            1463.00               1461.00       39.0   \n",
       "1170    False            1463.00               1461.00       39.0   \n",
       "1228    False            1457.00               1463.00       42.0   \n",
       "1299    False            1063.00               1065.00      143.0   \n",
       "1458    False            1456.00               1456.00       43.0   \n",
       "1729    False            1207.00               1207.00      101.0   \n",
       "1813    False            1481.00               1474.00       33.0   \n",
       "1962    False            1479.32               1479.32       34.0   \n",
       "2007    False            1479.32               1479.32       34.0   \n",
       "2203    False            1487.89               1479.32       32.0   \n",
       "2348    False            1493.23               1487.89       33.0   \n",
       "2417    False            1493.23               1487.89       33.0   \n",
       "2482    False            1493.23               1487.89       33.0   \n",
       "2536    False            1513.00               1493.23       29.0   \n",
       "2610    False            1513.00               1493.23       29.0   \n",
       "2639     True            1525.50               1513.00       28.0   \n",
       "2648     True            1252.95               1254.12       91.0   \n",
       "2657     True            1525.50               1513.00       28.0   \n",
       "2665     True            1525.50               1513.00       28.0   \n",
       "2684     True            1529.93               1525.50       28.0   \n",
       "2695     True            1529.93               1525.50       28.0   \n",
       "2709     True            1262.00               1262.00       89.0   \n",
       "2724     True            1529.93               1525.50       28.0   \n",
       "2752     True            1451.77               1449.51       45.0   \n",
       "2967    False            1633.72               1643.34       15.0   \n",
       "3097    False            1551.88               1547.42       24.0   \n",
       "3166    False            1551.88               1547.42       24.0   \n",
       "3243     True            1558.35               1558.90       23.0   \n",
       "3322     True            1440.13               1440.13       50.0   \n",
       "\n",
       "      rank_change_home  total_points_away  previous_points_away  rank_away  \\\n",
       "292                2.0            1408.00               1408.00       51.0   \n",
       "364               -1.0            1422.00               1425.00       47.0   \n",
       "550                3.0            1582.00               1582.00       11.0   \n",
       "701                2.0             994.00                986.00      163.0   \n",
       "718                2.0            1298.00               1302.00       81.0   \n",
       "745                2.0            1182.00               1181.00      113.0   \n",
       "782               -1.0            1429.00               1429.00       47.0   \n",
       "791                2.0            1273.00               1267.00       88.0   \n",
       "907               -6.0            1381.00               1381.00       61.0   \n",
       "972               -6.0            1209.00               1209.00      104.0   \n",
       "1011              -2.0            1463.00               1461.00       39.0   \n",
       "1076              -2.0            1212.00               1207.00      102.0   \n",
       "1147              -2.0            1272.00               1272.00       88.0   \n",
       "1170              -2.0            1466.00               1463.00       38.0   \n",
       "1228               3.0            1205.00               1206.00      105.0   \n",
       "1299              -1.0            1457.00               1463.00       42.0   \n",
       "1458               0.0            1555.00               1555.00       20.0   \n",
       "1729               0.0            1481.00               1474.00       33.0   \n",
       "1813              -2.0            1078.00               1078.00      138.0   \n",
       "1962               0.0            1425.26               1425.26       49.0   \n",
       "2007               0.0            1392.90               1392.90       60.0   \n",
       "2203              -2.0            1147.87               1149.14      121.0   \n",
       "2348               1.0            1186.61               1171.19      105.0   \n",
       "2417               1.0            1186.61               1171.19      105.0   \n",
       "2482               1.0            1326.09               1329.79       76.0   \n",
       "2536              -4.0            1139.67               1130.91      123.0   \n",
       "2610              -4.0            1309.15               1326.09       79.0   \n",
       "2639              -1.0            1211.32               1211.32       98.0   \n",
       "2648               1.0            1525.50               1513.00       28.0   \n",
       "2657              -1.0            1441.17               1432.21       48.0   \n",
       "2665              -1.0            1508.54               1509.04       32.0   \n",
       "2684               0.0            1428.97               1428.97       52.0   \n",
       "2695               0.0            1117.65               1117.65      132.0   \n",
       "2709               0.0            1529.93               1525.50       28.0   \n",
       "2724               0.0            1127.21               1127.21      129.0   \n",
       "2752               0.0            1529.93               1525.50       28.0   \n",
       "2967               2.0            1551.88               1547.42       24.0   \n",
       "3097               0.0            1356.01               1358.24       69.0   \n",
       "3166               0.0            1050.50               1058.28      149.0   \n",
       "3243               1.0            1514.86               1514.86       29.0   \n",
       "3322               0.0            1558.35               1558.90       23.0   \n",
       "\n",
       "      rank_change_away  \n",
       "292                1.0  \n",
       "364                2.0  \n",
       "550                0.0  \n",
       "701               -3.0  \n",
       "718                2.0  \n",
       "745                0.0  \n",
       "782                2.0  \n",
       "791               -3.0  \n",
       "907                2.0  \n",
       "972                0.0  \n",
       "1011              -2.0  \n",
       "1076              -3.0  \n",
       "1147              -2.0  \n",
       "1170              -2.0  \n",
       "1228               0.0  \n",
       "1299               3.0  \n",
       "1458               0.0  \n",
       "1729              -2.0  \n",
       "1813               0.0  \n",
       "1962               0.0  \n",
       "2007               0.0  \n",
       "2203              -2.0  \n",
       "2348              -4.0  \n",
       "2417              -4.0  \n",
       "2482               0.0  \n",
       "2536              -4.0  \n",
       "2610               3.0  \n",
       "2639              -2.0  \n",
       "2648              -1.0  \n",
       "2657              -1.0  \n",
       "2665               2.0  \n",
       "2684               0.0  \n",
       "2695               0.0  \n",
       "2709               0.0  \n",
       "2724               0.0  \n",
       "2752               0.0  \n",
       "2967               0.0  \n",
       "3097               1.0  \n",
       "3166               4.0  \n",
       "3243               0.0  \n",
       "3322               1.0  "
      ]
     },
     "execution_count": 19,
     "metadata": {},
     "output_type": "execute_result"
    }
   ],
   "source": [
    "df_wc_ranked[(df_wc_ranked.home_team == \"Morocco\") | (df_wc_ranked.away_team == \"Morocco\")].tail(50)"
   ]
  },
  {
   "cell_type": "markdown",
   "metadata": {},
   "source": [
    "Maintenant, nous avons les données prêtes à créer les features basées sur les résultats des jeux et les classements FIFA.\n",
    "\n",
    "# Features Engineering\n",
    "\n",
    "L'idée ici est de créer des fonctionnalités possibles qui ont un impact sur la prédiction des matchs de football. Par intuition, on dit que les features qui impactent pourraient être :\n",
    "\n",
    "- Past game points made\n",
    "- Past goals scored and suffered\n",
    "- The importance of game (friendly or not)\n",
    "- Rank of the teams \n",
    "- Rank increasement of the teams\n",
    "- Goals made and suffered by ranking faced\n",
    "\n",
    "Donc, la première chose à faire est de créer la fonctionnalité qui indique quelle équipe a gagné et combien de points ils ont gagnés au jeu."
   ]
  },
  {
   "cell_type": "code",
   "execution_count": 20,
   "metadata": {
    "execution": {
     "iopub.execute_input": "2022-11-19T16:03:35.888746Z",
     "iopub.status.busy": "2022-11-19T16:03:35.888019Z",
     "iopub.status.idle": "2022-11-19T16:03:35.894255Z",
     "shell.execute_reply": "2022-11-19T16:03:35.892886Z",
     "shell.execute_reply.started": "2022-11-19T16:03:35.888712Z"
    }
   },
   "outputs": [],
   "source": [
    "df = df_wc_ranked"
   ]
  },
  {
   "cell_type": "code",
   "execution_count": 21,
   "metadata": {
    "execution": {
     "iopub.execute_input": "2022-11-19T16:03:35.896113Z",
     "iopub.status.busy": "2022-11-19T16:03:35.895765Z",
     "iopub.status.idle": "2022-11-19T16:03:36.52543Z",
     "shell.execute_reply": "2022-11-19T16:03:36.523931Z",
     "shell.execute_reply.started": "2022-11-19T16:03:35.896082Z"
    }
   },
   "outputs": [],
   "source": [
    "def result_finder(home, away):\n",
    "    if home > away:\n",
    "        return pd.Series([0, 3, 0])\n",
    "    if home < away:\n",
    "        return pd.Series([1, 0, 3])\n",
    "    else:\n",
    "        return pd.Series([2, 1, 1])\n",
    "\n",
    "results = df.apply(lambda x: result_finder(x[\"home_score\"], x[\"away_score\"]), axis=1)"
   ]
  },
  {
   "cell_type": "code",
   "execution_count": 22,
   "metadata": {
    "execution": {
     "iopub.execute_input": "2022-11-19T16:03:36.527901Z",
     "iopub.status.busy": "2022-11-19T16:03:36.527404Z",
     "iopub.status.idle": "2022-11-19T16:03:36.535888Z",
     "shell.execute_reply": "2022-11-19T16:03:36.53508Z",
     "shell.execute_reply.started": "2022-11-19T16:03:36.527847Z"
    }
   },
   "outputs": [],
   "source": [
    "df[[\"result\", \"home_team_points\", \"away_team_points\"]] = results"
   ]
  },
  {
   "cell_type": "markdown",
   "metadata": {},
   "source": [
    "Les points de jeu sont 3 pour la victoire, 1 pour le match nul et 0 pour la défaite et sont différents des points de classement FIFA qui sont déjà dans la base de données. De plus, il est supposé que les points de classement FIFA et le classement FIFA de la même équipe sont corrélés négativement, et nous ne devrions utiliser qu'un seul d'entre eux pour créer de nouvelles features. Cette supposition est vérifiée ci-dessous :\n"
   ]
  },
  {
   "cell_type": "code",
   "execution_count": 23,
   "metadata": {
    "execution": {
     "iopub.execute_input": "2022-11-19T16:03:36.537785Z",
     "iopub.status.busy": "2022-11-19T16:03:36.537495Z",
     "iopub.status.idle": "2022-11-19T16:03:36.843409Z",
     "shell.execute_reply": "2022-11-19T16:03:36.842239Z",
     "shell.execute_reply.started": "2022-11-19T16:03:36.537758Z"
    }
   },
   "outputs": [
    {
     "data": {
      "image/png": "[encoded data removed]",
      "text/plain": [
       "<Figure size 1080x720 with 2 Axes>"
      ]
     },
     "metadata": {
      "needs_background": "light"
     },
     "output_type": "display_data"
    }
   ],
   "source": [
    "import seaborn as sns\n",
    "import matplotlib.pyplot as plt\n",
    "\n",
    "plt.figure(figsize=(15, 10))\n",
    "sns.heatmap(df[[\"total_points_home\", \"rank_home\", \"total_points_away\", \"rank_away\"]].corr())\n",
    "plt.show()"
   ]
  },
  {
   "cell_type": "code",
   "execution_count": 24,
   "metadata": {
    "execution": {
     "iopub.execute_input": "2022-11-19T16:03:36.846279Z",
     "iopub.status.busy": "2022-11-19T16:03:36.84545Z",
     "iopub.status.idle": "2022-11-19T16:03:36.85671Z",
     "shell.execute_reply": "2022-11-19T16:03:36.855655Z",
     "shell.execute_reply.started": "2022-11-19T16:03:36.846216Z"
    }
   },
   "outputs": [],
   "source": [
    "df[\"rank_dif\"] = df[\"rank_home\"] - df[\"rank_away\"]\n",
    "df[\"sg\"] = df[\"home_score\"] - df[\"away_score\"]\n",
    "df[\"points_home_by_rank\"] = df[\"home_team_points\"]/df[\"rank_away\"]\n",
    "df[\"points_away_by_rank\"] = df[\"away_team_points\"]/df[\"rank_home\"]"
   ]
  },
  {
   "cell_type": "code",
   "execution_count": 25,
   "metadata": {
    "execution": {
     "iopub.execute_input": "2022-11-19T16:03:36.858807Z",
     "iopub.status.busy": "2022-11-19T16:03:36.858224Z",
     "iopub.status.idle": "2022-11-19T16:03:36.868856Z",
     "shell.execute_reply": "2022-11-19T16:03:36.86808Z",
     "shell.execute_reply.started": "2022-11-19T16:03:36.858774Z"
    }
   },
   "outputs": [],
   "source": [
    "home_team = df[[\"date\", \"home_team\", \"home_score\", \"away_score\", \"rank_home\", \"rank_away\",\"rank_change_home\", \"total_points_home\", \"result\", \"rank_dif\", \"points_home_by_rank\", \"home_team_points\"]]\n",
    "\n",
    "away_team = df[[\"date\", \"away_team\", \"away_score\", \"home_score\", \"rank_away\", \"rank_home\",\"rank_change_away\", \"total_points_away\", \"result\", \"rank_dif\", \"points_away_by_rank\", \"away_team_points\"]]"
   ]
  },
  {
   "cell_type": "code",
   "execution_count": 26,
   "metadata": {
    "execution": {
     "iopub.execute_input": "2022-11-19T16:03:36.870553Z",
     "iopub.status.busy": "2022-11-19T16:03:36.870019Z",
     "iopub.status.idle": "2022-11-19T16:03:36.87801Z",
     "shell.execute_reply": "2022-11-19T16:03:36.876911Z",
     "shell.execute_reply.started": "2022-11-19T16:03:36.87052Z"
    }
   },
   "outputs": [],
   "source": [
    "home_team.columns = [h.replace(\"home_\", \"\").replace(\"_home\", \"\").replace(\"away_\", \"suf_\").replace(\"_away\", \"_suf\") for h in home_team.columns]\n",
    "\n",
    "away_team.columns = [a.replace(\"away_\", \"\").replace(\"_away\", \"\").replace(\"home_\", \"suf_\").replace(\"_home\", \"_suf\") for a in away_team.columns]"
   ]
  },
  {
   "cell_type": "code",
   "execution_count": 27,
   "metadata": {
    "execution": {
     "iopub.execute_input": "2022-11-19T16:03:36.882958Z",
     "iopub.status.busy": "2022-11-19T16:03:36.882625Z",
     "iopub.status.idle": "2022-11-19T16:03:36.89592Z",
     "shell.execute_reply": "2022-11-19T16:03:36.894985Z",
     "shell.execute_reply.started": "2022-11-19T16:03:36.88293Z"
    }
   },
   "outputs": [
    {
     "name": "stderr",
     "output_type": "stream",
     "text": [
      "C:\\Users\\amema\\AppData\\Local\\Temp\\ipykernel_23088\\275322566.py:1: FutureWarning: The frame.append method is deprecated and will be removed from pandas in a future version. Use pandas.concat instead.\n",
      "  team_stats = home_team.append(away_team)#.sort_values(\"date\")\n"
     ]
    }
   ],
   "source": [
    "team_stats = home_team.append(away_team)#.sort_values(\"date\")"
   ]
  },
  {
   "cell_type": "code",
   "execution_count": 28,
   "metadata": {
    "execution": {
     "iopub.execute_input": "2022-11-19T16:03:36.897602Z",
     "iopub.status.busy": "2022-11-19T16:03:36.897282Z",
     "iopub.status.idle": "2022-11-19T16:03:36.908703Z",
     "shell.execute_reply": "2022-11-19T16:03:36.90745Z",
     "shell.execute_reply.started": "2022-11-19T16:03:36.897575Z"
    }
   },
   "outputs": [],
   "source": [
    "#this column will be used to calculate features for simulation\n",
    "team_stats_raw = team_stats.copy()"
   ]
  },
  {
   "cell_type": "markdown",
   "metadata": {},
   "source": [
    "Now, we have a database ready to create predictive features. They will be:\n",
    "\n",
    "- Mean goals of the team in World Cup Cycle.\n",
    "- Mean goals of the team in last 5 games.\n",
    "- Mean goals suffered of the team in World Cup Cycle.\n",
    "- Mean goals suffered of the team in last 5 games.\n",
    "- Mean FIFA Rank that team faced in World Cup Cycle.\n",
    "- Mean FIFA Rank that team faced in last 5 games.\n",
    "- FIFA Points won at the cycle.\n",
    "- FIFA Points won in last 5 games.\n",
    "- Mean game points at the Cycle.\n",
    "- Mean game points at last 5 games.\n",
    "- Mean game points by rank faced at the Cycle.\n",
    "- Mean game points by rank faced at last 5 games."
   ]
  },
  {
   "cell_type": "code",
   "execution_count": 29,
   "metadata": {
    "execution": {
     "iopub.execute_input": "2022-11-19T16:03:36.910603Z",
     "iopub.status.busy": "2022-11-19T16:03:36.910217Z",
     "iopub.status.idle": "2022-11-19T16:03:59.457419Z",
     "shell.execute_reply": "2022-11-19T16:03:59.456223Z",
     "shell.execute_reply.started": "2022-11-19T16:03:36.910571Z"
    }
   },
   "outputs": [],
   "source": [
    "stats_val = []\n",
    "\n",
    "for index, row in team_stats.iterrows():\n",
    "    team = row[\"team\"]\n",
    "    date = row[\"date\"]\n",
    "    past_games = team_stats.loc[(team_stats[\"team\"] == team) & (team_stats[\"date\"] < date)].sort_values(by=['date'], ascending=False)\n",
    "    last5 = past_games.head(5)\n",
    "    \n",
    "    goals = past_games[\"score\"].mean()\n",
    "    goals_l5 = last5[\"score\"].mean()\n",
    "    \n",
    "    goals_suf = past_games[\"suf_score\"].mean()\n",
    "    goals_suf_l5 = last5[\"suf_score\"].mean()\n",
    "    \n",
    "    rank = past_games[\"rank_suf\"].mean()\n",
    "    rank_l5 = last5[\"rank_suf\"].mean()\n",
    "    \n",
    "    if len(last5) > 0:\n",
    "        points = past_games[\"total_points\"].values[0] - past_games[\"total_points\"].values[-1]#qtd de pontos ganhos\n",
    "        points_l5 = last5[\"total_points\"].values[0] - last5[\"total_points\"].values[-1] \n",
    "    else:\n",
    "        points = 0\n",
    "        points_l5 = 0\n",
    "        \n",
    "    gp = past_games[\"team_points\"].mean()\n",
    "    gp_l5 = last5[\"team_points\"].mean()\n",
    "    \n",
    "    gp_rank = past_games[\"points_by_rank\"].mean()\n",
    "    gp_rank_l5 = last5[\"points_by_rank\"].mean()\n",
    "    \n",
    "    stats_val.append([goals, goals_l5, goals_suf, goals_suf_l5, rank, rank_l5, points, points_l5, gp, gp_l5, gp_rank, gp_rank_l5])"
   ]
  },
  {
   "cell_type": "code",
   "execution_count": 30,
   "metadata": {
    "execution": {
     "iopub.execute_input": "2022-11-19T16:03:59.459159Z",
     "iopub.status.busy": "2022-11-19T16:03:59.458813Z",
     "iopub.status.idle": "2022-11-19T16:03:59.485538Z",
     "shell.execute_reply": "2022-11-19T16:03:59.484619Z",
     "shell.execute_reply.started": "2022-11-19T16:03:59.459127Z"
    }
   },
   "outputs": [],
   "source": [
    "stats_cols = [\"goals_mean\", \"goals_mean_l5\", \"goals_suf_mean\", \"goals_suf_mean_l5\", \"rank_mean\", \"rank_mean_l5\", \"points_mean\", \"points_mean_l5\", \"game_points_mean\", \"game_points_mean_l5\", \"game_points_rank_mean\", \"game_points_rank_mean_l5\"]\n",
    "\n",
    "stats_df = pd.DataFrame(stats_val, columns=stats_cols)\n",
    "\n",
    "full_df = pd.concat([team_stats.reset_index(drop=True), stats_df], axis=1, ignore_index=False)"
   ]
  },
  {
   "cell_type": "code",
   "execution_count": 31,
   "metadata": {
    "execution": {
     "iopub.execute_input": "2022-11-19T16:03:59.48751Z",
     "iopub.status.busy": "2022-11-19T16:03:59.487039Z",
     "iopub.status.idle": "2022-11-19T16:03:59.494965Z",
     "shell.execute_reply": "2022-11-19T16:03:59.493676Z",
     "shell.execute_reply.started": "2022-11-19T16:03:59.487464Z"
    }
   },
   "outputs": [],
   "source": [
    "home_team_stats = full_df.iloc[:int(full_df.shape[0]/2),:]\n",
    "away_team_stats = full_df.iloc[int(full_df.shape[0]/2):,:]"
   ]
  },
  {
   "cell_type": "code",
   "execution_count": 32,
   "metadata": {
    "execution": {
     "iopub.execute_input": "2022-11-19T16:03:59.497154Z",
     "iopub.status.busy": "2022-11-19T16:03:59.496778Z",
     "iopub.status.idle": "2022-11-19T16:03:59.514509Z",
     "shell.execute_reply": "2022-11-19T16:03:59.513289Z",
     "shell.execute_reply.started": "2022-11-19T16:03:59.49712Z"
    }
   },
   "outputs": [
    {
     "data": {
      "text/plain": [
       "Index(['goals_mean', 'goals_mean_l5', 'goals_suf_mean', 'goals_suf_mean_l5',\n",
       "       'rank_mean', 'rank_mean_l5', 'points_mean', 'points_mean_l5',\n",
       "       'game_points_mean', 'game_points_mean_l5', 'game_points_rank_mean',\n",
       "       'game_points_rank_mean_l5'],\n",
       "      dtype='object')"
      ]
     },
     "execution_count": 32,
     "metadata": {},
     "output_type": "execute_result"
    }
   ],
   "source": [
    "home_team_stats.columns[-12:]"
   ]
  },
  {
   "cell_type": "code",
   "execution_count": 33,
   "metadata": {
    "execution": {
     "iopub.execute_input": "2022-11-19T16:03:59.51654Z",
     "iopub.status.busy": "2022-11-19T16:03:59.516147Z",
     "iopub.status.idle": "2022-11-19T16:03:59.529746Z",
     "shell.execute_reply": "2022-11-19T16:03:59.528315Z",
     "shell.execute_reply.started": "2022-11-19T16:03:59.516498Z"
    }
   },
   "outputs": [],
   "source": [
    "home_team_stats = home_team_stats[home_team_stats.columns[-12:]]\n",
    "away_team_stats = away_team_stats[away_team_stats.columns[-12:]]"
   ]
  },
  {
   "cell_type": "code",
   "execution_count": 34,
   "metadata": {
    "execution": {
     "iopub.execute_input": "2022-11-19T16:03:59.531844Z",
     "iopub.status.busy": "2022-11-19T16:03:59.531446Z",
     "iopub.status.idle": "2022-11-19T16:03:59.541274Z",
     "shell.execute_reply": "2022-11-19T16:03:59.539842Z",
     "shell.execute_reply.started": "2022-11-19T16:03:59.531792Z"
    }
   },
   "outputs": [],
   "source": [
    "home_team_stats.columns = ['home_'+str(col) for col in home_team_stats.columns]\n",
    "away_team_stats.columns = ['away_'+str(col) for col in away_team_stats.columns]"
   ]
  },
  {
   "cell_type": "code",
   "execution_count": 35,
   "metadata": {
    "execution": {
     "iopub.execute_input": "2022-11-19T16:03:59.543464Z",
     "iopub.status.busy": "2022-11-19T16:03:59.542725Z",
     "iopub.status.idle": "2022-11-19T16:03:59.555939Z",
     "shell.execute_reply": "2022-11-19T16:03:59.554636Z",
     "shell.execute_reply.started": "2022-11-19T16:03:59.543429Z"
    }
   },
   "outputs": [],
   "source": [
    "match_stats = pd.concat([home_team_stats, away_team_stats.reset_index(drop=True)], axis=1, ignore_index=False)"
   ]
  },
  {
   "cell_type": "code",
   "execution_count": 36,
   "metadata": {
    "execution": {
     "iopub.execute_input": "2022-11-19T16:03:59.557548Z",
     "iopub.status.busy": "2022-11-19T16:03:59.557208Z",
     "iopub.status.idle": "2022-11-19T16:03:59.571197Z",
     "shell.execute_reply": "2022-11-19T16:03:59.570002Z",
     "shell.execute_reply.started": "2022-11-19T16:03:59.557518Z"
    }
   },
   "outputs": [],
   "source": [
    "full_df = pd.concat([df, match_stats.reset_index(drop=True)], axis=1, ignore_index=False)"
   ]
  },
  {
   "cell_type": "code",
   "execution_count": 37,
   "metadata": {
    "execution": {
     "iopub.execute_input": "2022-11-19T16:03:59.573265Z",
     "iopub.status.busy": "2022-11-19T16:03:59.572883Z",
     "iopub.status.idle": "2022-11-19T16:03:59.584127Z",
     "shell.execute_reply": "2022-11-19T16:03:59.583325Z",
     "shell.execute_reply.started": "2022-11-19T16:03:59.573211Z"
    }
   },
   "outputs": [
    {
     "data": {
      "text/plain": [
       "Index(['date', 'home_team', 'away_team', 'home_score', 'away_score',\n",
       "       'tournament', 'city', 'country', 'neutral', 'total_points_home',\n",
       "       'previous_points_home', 'rank_home', 'rank_change_home',\n",
       "       'total_points_away', 'previous_points_away', 'rank_away',\n",
       "       'rank_change_away', 'result', 'home_team_points', 'away_team_points',\n",
       "       'rank_dif', 'sg', 'points_home_by_rank', 'points_away_by_rank',\n",
       "       'home_goals_mean', 'home_goals_mean_l5', 'home_goals_suf_mean',\n",
       "       'home_goals_suf_mean_l5', 'home_rank_mean', 'home_rank_mean_l5',\n",
       "       'home_points_mean', 'home_points_mean_l5', 'home_game_points_mean',\n",
       "       'home_game_points_mean_l5', 'home_game_points_rank_mean',\n",
       "       'home_game_points_rank_mean_l5', 'away_goals_mean',\n",
       "       'away_goals_mean_l5', 'away_goals_suf_mean', 'away_goals_suf_mean_l5',\n",
       "       'away_rank_mean', 'away_rank_mean_l5', 'away_points_mean',\n",
       "       'away_points_mean_l5', 'away_game_points_mean',\n",
       "       'away_game_points_mean_l5', 'away_game_points_rank_mean',\n",
       "       'away_game_points_rank_mean_l5'],\n",
       "      dtype='object')"
      ]
     },
     "execution_count": 37,
     "metadata": {},
     "output_type": "execute_result"
    }
   ],
   "source": [
    "full_df.columns"
   ]
  },
  {
   "cell_type": "code",
   "execution_count": 38,
   "metadata": {
    "execution": {
     "iopub.execute_input": "2022-11-19T16:03:59.585904Z",
     "iopub.status.busy": "2022-11-19T16:03:59.585423Z",
     "iopub.status.idle": "2022-11-19T16:03:59.597599Z",
     "shell.execute_reply": "2022-11-19T16:03:59.596301Z",
     "shell.execute_reply.started": "2022-11-19T16:03:59.585871Z"
    }
   },
   "outputs": [],
   "source": [
    "def find_friendly(x):\n",
    "    if x == \"Friendly\":\n",
    "        return 1\n",
    "    else: return 0\n",
    "\n",
    "full_df[\"is_friendly\"] = full_df[\"tournament\"].apply(lambda x: find_friendly(x)) "
   ]
  },
  {
   "cell_type": "code",
   "execution_count": 39,
   "metadata": {
    "execution": {
     "iopub.execute_input": "2022-11-19T16:03:59.599521Z",
     "iopub.status.busy": "2022-11-19T16:03:59.599091Z",
     "iopub.status.idle": "2022-11-19T16:03:59.620954Z",
     "shell.execute_reply": "2022-11-19T16:03:59.619692Z",
     "shell.execute_reply.started": "2022-11-19T16:03:59.599486Z"
    }
   },
   "outputs": [],
   "source": [
    "full_df = pd.get_dummies(full_df, columns=[\"is_friendly\"])"
   ]
  },
  {
   "cell_type": "code",
   "execution_count": 40,
   "metadata": {
    "execution": {
     "iopub.execute_input": "2022-11-19T16:03:59.622889Z",
     "iopub.status.busy": "2022-11-19T16:03:59.622532Z",
     "iopub.status.idle": "2022-11-19T16:03:59.6316Z",
     "shell.execute_reply": "2022-11-19T16:03:59.630307Z",
     "shell.execute_reply.started": "2022-11-19T16:03:59.622855Z"
    }
   },
   "outputs": [
    {
     "data": {
      "text/plain": [
       "Index(['date', 'home_team', 'away_team', 'home_score', 'away_score',\n",
       "       'tournament', 'city', 'country', 'neutral', 'total_points_home',\n",
       "       'previous_points_home', 'rank_home', 'rank_change_home',\n",
       "       'total_points_away', 'previous_points_away', 'rank_away',\n",
       "       'rank_change_away', 'result', 'home_team_points', 'away_team_points',\n",
       "       'rank_dif', 'sg', 'points_home_by_rank', 'points_away_by_rank',\n",
       "       'home_goals_mean', 'home_goals_mean_l5', 'home_goals_suf_mean',\n",
       "       'home_goals_suf_mean_l5', 'home_rank_mean', 'home_rank_mean_l5',\n",
       "       'home_points_mean', 'home_points_mean_l5', 'home_game_points_mean',\n",
       "       'home_game_points_mean_l5', 'home_game_points_rank_mean',\n",
       "       'home_game_points_rank_mean_l5', 'away_goals_mean',\n",
       "       'away_goals_mean_l5', 'away_goals_suf_mean', 'away_goals_suf_mean_l5',\n",
       "       'away_rank_mean', 'away_rank_mean_l5', 'away_points_mean',\n",
       "       'away_points_mean_l5', 'away_game_points_mean',\n",
       "       'away_game_points_mean_l5', 'away_game_points_rank_mean',\n",
       "       'away_game_points_rank_mean_l5', 'is_friendly_0', 'is_friendly_1'],\n",
       "      dtype='object')"
      ]
     },
     "execution_count": 40,
     "metadata": {},
     "output_type": "execute_result"
    }
   ],
   "source": [
    "full_df.columns"
   ]
  },
  {
   "cell_type": "code",
   "execution_count": 41,
   "metadata": {
    "execution": {
     "iopub.execute_input": "2022-11-19T16:03:59.63344Z",
     "iopub.status.busy": "2022-11-19T16:03:59.633061Z",
     "iopub.status.idle": "2022-11-19T16:03:59.674294Z",
     "shell.execute_reply": "2022-11-19T16:03:59.672919Z",
     "shell.execute_reply.started": "2022-11-19T16:03:59.633408Z"
    }
   },
   "outputs": [
    {
     "data": {
      "text/html": [
       "<div>\n",
       "<style scoped>\n",
       "    .dataframe tbody tr th:only-of-type {\n",
       "        vertical-align: middle;\n",
       "    }\n",
       "\n",
       "    .dataframe tbody tr th {\n",
       "        vertical-align: top;\n",
       "    }\n",
       "\n",
       "    .dataframe thead th {\n",
       "        text-align: right;\n",
       "    }\n",
       "</style>\n",
       "<table border=\"1\" class=\"dataframe\">\n",
       "  <thead>\n",
       "    <tr style=\"text-align: right;\">\n",
       "      <th></th>\n",
       "      <th>date</th>\n",
       "      <th>home_team</th>\n",
       "      <th>away_team</th>\n",
       "      <th>rank_home</th>\n",
       "      <th>rank_away</th>\n",
       "      <th>home_score</th>\n",
       "      <th>away_score</th>\n",
       "      <th>result</th>\n",
       "      <th>rank_dif</th>\n",
       "      <th>rank_change_home</th>\n",
       "      <th>...</th>\n",
       "      <th>home_game_points_mean</th>\n",
       "      <th>home_game_points_mean_l5</th>\n",
       "      <th>home_game_points_rank_mean</th>\n",
       "      <th>home_game_points_rank_mean_l5</th>\n",
       "      <th>away_game_points_mean</th>\n",
       "      <th>away_game_points_mean_l5</th>\n",
       "      <th>away_game_points_rank_mean</th>\n",
       "      <th>away_game_points_rank_mean_l5</th>\n",
       "      <th>is_friendly_0</th>\n",
       "      <th>is_friendly_1</th>\n",
       "    </tr>\n",
       "  </thead>\n",
       "  <tbody>\n",
       "    <tr>\n",
       "      <th>3334</th>\n",
       "      <td>2022-09-27</td>\n",
       "      <td>Norway</td>\n",
       "      <td>Serbia</td>\n",
       "      <td>36.0</td>\n",
       "      <td>25.0</td>\n",
       "      <td>0</td>\n",
       "      <td>2</td>\n",
       "      <td>1</td>\n",
       "      <td>11.0</td>\n",
       "      <td>0.0</td>\n",
       "      <td>...</td>\n",
       "      <td>1.833333</td>\n",
       "      <td>2.0</td>\n",
       "      <td>0.041984</td>\n",
       "      <td>0.090235</td>\n",
       "      <td>1.866667</td>\n",
       "      <td>2.0</td>\n",
       "      <td>0.053327</td>\n",
       "      <td>0.073887</td>\n",
       "      <td>1</td>\n",
       "      <td>0</td>\n",
       "    </tr>\n",
       "    <tr>\n",
       "      <th>3335</th>\n",
       "      <td>2022-09-27</td>\n",
       "      <td>Sweden</td>\n",
       "      <td>Slovenia</td>\n",
       "      <td>20.0</td>\n",
       "      <td>65.0</td>\n",
       "      <td>1</td>\n",
       "      <td>1</td>\n",
       "      <td>2</td>\n",
       "      <td>-45.0</td>\n",
       "      <td>0.0</td>\n",
       "      <td>...</td>\n",
       "      <td>1.607843</td>\n",
       "      <td>0.6</td>\n",
       "      <td>0.048520</td>\n",
       "      <td>0.009231</td>\n",
       "      <td>1.404762</td>\n",
       "      <td>1.0</td>\n",
       "      <td>0.026035</td>\n",
       "      <td>0.029545</td>\n",
       "      <td>1</td>\n",
       "      <td>0</td>\n",
       "    </tr>\n",
       "    <tr>\n",
       "      <th>3336</th>\n",
       "      <td>2022-09-27</td>\n",
       "      <td>Kosovo</td>\n",
       "      <td>Cyprus</td>\n",
       "      <td>106.0</td>\n",
       "      <td>108.0</td>\n",
       "      <td>5</td>\n",
       "      <td>1</td>\n",
       "      <td>0</td>\n",
       "      <td>-2.0</td>\n",
       "      <td>0.0</td>\n",
       "      <td>...</td>\n",
       "      <td>1.326087</td>\n",
       "      <td>1.2</td>\n",
       "      <td>0.018478</td>\n",
       "      <td>0.016825</td>\n",
       "      <td>0.767442</td>\n",
       "      <td>1.0</td>\n",
       "      <td>0.009687</td>\n",
       "      <td>0.019652</td>\n",
       "      <td>1</td>\n",
       "      <td>0</td>\n",
       "    </tr>\n",
       "    <tr>\n",
       "      <th>3337</th>\n",
       "      <td>2022-09-27</td>\n",
       "      <td>Greece</td>\n",
       "      <td>Northern Ireland</td>\n",
       "      <td>49.0</td>\n",
       "      <td>58.0</td>\n",
       "      <td>3</td>\n",
       "      <td>1</td>\n",
       "      <td>0</td>\n",
       "      <td>-9.0</td>\n",
       "      <td>1.0</td>\n",
       "      <td>...</td>\n",
       "      <td>1.590909</td>\n",
       "      <td>2.4</td>\n",
       "      <td>0.050090</td>\n",
       "      <td>0.028040</td>\n",
       "      <td>1.139535</td>\n",
       "      <td>1.0</td>\n",
       "      <td>0.022315</td>\n",
       "      <td>0.009470</td>\n",
       "      <td>1</td>\n",
       "      <td>0</td>\n",
       "    </tr>\n",
       "    <tr>\n",
       "      <th>3338</th>\n",
       "      <td>2022-09-30</td>\n",
       "      <td>Fiji</td>\n",
       "      <td>Solomon Islands</td>\n",
       "      <td>163.0</td>\n",
       "      <td>137.0</td>\n",
       "      <td>1</td>\n",
       "      <td>0</td>\n",
       "      <td>0</td>\n",
       "      <td>26.0</td>\n",
       "      <td>0.0</td>\n",
       "      <td>...</td>\n",
       "      <td>1.500000</td>\n",
       "      <td>1.4</td>\n",
       "      <td>0.009432</td>\n",
       "      <td>0.008868</td>\n",
       "      <td>1.714286</td>\n",
       "      <td>2.0</td>\n",
       "      <td>0.010013</td>\n",
       "      <td>0.012387</td>\n",
       "      <td>1</td>\n",
       "      <td>0</td>\n",
       "    </tr>\n",
       "  </tbody>\n",
       "</table>\n",
       "<p>5 rows × 37 columns</p>\n",
       "</div>"
      ],
      "text/plain": [
       "           date home_team         away_team  rank_home  rank_away  home_score  \\\n",
       "3334 2022-09-27    Norway            Serbia       36.0       25.0           0   \n",
       "3335 2022-09-27    Sweden          Slovenia       20.0       65.0           1   \n",
       "3336 2022-09-27    Kosovo            Cyprus      106.0      108.0           5   \n",
       "3337 2022-09-27    Greece  Northern Ireland       49.0       58.0           3   \n",
       "3338 2022-09-30      Fiji   Solomon Islands      163.0      137.0           1   \n",
       "\n",
       "      away_score  result  rank_dif  rank_change_home  ...  \\\n",
       "3334           2       1      11.0               0.0  ...   \n",
       "3335           1       2     -45.0               0.0  ...   \n",
       "3336           1       0      -2.0               0.0  ...   \n",
       "3337           1       0      -9.0               1.0  ...   \n",
       "3338           0       0      26.0               0.0  ...   \n",
       "\n",
       "      home_game_points_mean  home_game_points_mean_l5  \\\n",
       "3334               1.833333                       2.0   \n",
       "3335               1.607843                       0.6   \n",
       "3336               1.326087                       1.2   \n",
       "3337               1.590909                       2.4   \n",
       "3338               1.500000                       1.4   \n",
       "\n",
       "      home_game_points_rank_mean  home_game_points_rank_mean_l5  \\\n",
       "3334                    0.041984                       0.090235   \n",
       "3335                    0.048520                       0.009231   \n",
       "3336                    0.018478                       0.016825   \n",
       "3337                    0.050090                       0.028040   \n",
       "3338                    0.009432                       0.008868   \n",
       "\n",
       "      away_game_points_mean  away_game_points_mean_l5  \\\n",
       "3334               1.866667                       2.0   \n",
       "3335               1.404762                       1.0   \n",
       "3336               0.767442                       1.0   \n",
       "3337               1.139535                       1.0   \n",
       "3338               1.714286                       2.0   \n",
       "\n",
       "      away_game_points_rank_mean  away_game_points_rank_mean_l5  \\\n",
       "3334                    0.053327                       0.073887   \n",
       "3335                    0.026035                       0.029545   \n",
       "3336                    0.009687                       0.019652   \n",
       "3337                    0.022315                       0.009470   \n",
       "3338                    0.010013                       0.012387   \n",
       "\n",
       "      is_friendly_0  is_friendly_1  \n",
       "3334              1              0  \n",
       "3335              1              0  \n",
       "3336              1              0  \n",
       "3337              1              0  \n",
       "3338              1              0  \n",
       "\n",
       "[5 rows x 37 columns]"
      ]
     },
     "execution_count": 41,
     "metadata": {},
     "output_type": "execute_result"
    }
   ],
   "source": [
    "base_df = full_df[[\"date\", \"home_team\", \"away_team\", \"rank_home\", \"rank_away\",\"home_score\", \"away_score\",\"result\", \"rank_dif\", \"rank_change_home\", \"rank_change_away\", 'home_goals_mean',\n",
    "       'home_goals_mean_l5', 'home_goals_suf_mean', 'home_goals_suf_mean_l5',\n",
    "       'home_rank_mean', 'home_rank_mean_l5', 'home_points_mean',\n",
    "       'home_points_mean_l5', 'away_goals_mean', 'away_goals_mean_l5',\n",
    "       'away_goals_suf_mean', 'away_goals_suf_mean_l5', 'away_rank_mean',\n",
    "       'away_rank_mean_l5', 'away_points_mean', 'away_points_mean_l5','home_game_points_mean', 'home_game_points_mean_l5',\n",
    "       'home_game_points_rank_mean', 'home_game_points_rank_mean_l5','away_game_points_mean',\n",
    "       'away_game_points_mean_l5', 'away_game_points_rank_mean',\n",
    "       'away_game_points_rank_mean_l5',\n",
    "       'is_friendly_0', 'is_friendly_1']]\n",
    "\n",
    "base_df.tail()"
   ]
  },
  {
   "cell_type": "code",
   "execution_count": 42,
   "metadata": {
    "execution": {
     "iopub.execute_input": "2022-11-19T16:03:59.677685Z",
     "iopub.status.busy": "2022-11-19T16:03:59.677195Z",
     "iopub.status.idle": "2022-11-19T16:03:59.691359Z",
     "shell.execute_reply": "2022-11-19T16:03:59.689958Z",
     "shell.execute_reply.started": "2022-11-19T16:03:59.677641Z"
    }
   },
   "outputs": [
    {
     "data": {
      "text/plain": [
       "date                               0\n",
       "home_team                          0\n",
       "away_team                          0\n",
       "rank_home                          0\n",
       "rank_away                          0\n",
       "home_score                         0\n",
       "away_score                         0\n",
       "result                             0\n",
       "rank_dif                           0\n",
       "rank_change_home                   0\n",
       "rank_change_away                   0\n",
       "home_goals_mean                  101\n",
       "home_goals_mean_l5               101\n",
       "home_goals_suf_mean              101\n",
       "home_goals_suf_mean_l5           101\n",
       "home_rank_mean                   101\n",
       "home_rank_mean_l5                101\n",
       "home_points_mean                   0\n",
       "home_points_mean_l5                0\n",
       "away_goals_mean                  100\n",
       "away_goals_mean_l5               100\n",
       "away_goals_suf_mean              100\n",
       "away_goals_suf_mean_l5           100\n",
       "away_rank_mean                   100\n",
       "away_rank_mean_l5                100\n",
       "away_points_mean                   0\n",
       "away_points_mean_l5                0\n",
       "home_game_points_mean            101\n",
       "home_game_points_mean_l5         101\n",
       "home_game_points_rank_mean       101\n",
       "home_game_points_rank_mean_l5    101\n",
       "away_game_points_mean            100\n",
       "away_game_points_mean_l5         100\n",
       "away_game_points_rank_mean       100\n",
       "away_game_points_rank_mean_l5    100\n",
       "is_friendly_0                      0\n",
       "is_friendly_1                      0\n",
       "dtype: int64"
      ]
     },
     "execution_count": 42,
     "metadata": {},
     "output_type": "execute_result"
    }
   ],
   "source": [
    "base_df.isna().sum()"
   ]
  },
  {
   "cell_type": "code",
   "execution_count": 43,
   "metadata": {
    "execution": {
     "iopub.execute_input": "2022-11-19T16:03:59.694066Z",
     "iopub.status.busy": "2022-11-19T16:03:59.693642Z",
     "iopub.status.idle": "2022-11-19T16:03:59.706861Z",
     "shell.execute_reply": "2022-11-19T16:03:59.70552Z",
     "shell.execute_reply.started": "2022-11-19T16:03:59.694024Z"
    }
   },
   "outputs": [],
   "source": [
    "base_df_no_fg = base_df.dropna()"
   ]
  },
  {
   "cell_type": "code",
   "execution_count": 44,
   "metadata": {
    "execution": {
     "iopub.execute_input": "2022-11-19T16:03:59.709045Z",
     "iopub.status.busy": "2022-11-19T16:03:59.708554Z",
     "iopub.status.idle": "2022-11-19T16:03:59.717061Z",
     "shell.execute_reply": "2022-11-19T16:03:59.715857Z",
     "shell.execute_reply.started": "2022-11-19T16:03:59.709006Z"
    }
   },
   "outputs": [],
   "source": [
    "df = base_df_no_fg"
   ]
  },
  {
   "cell_type": "code",
   "execution_count": 45,
   "metadata": {
    "execution": {
     "iopub.execute_input": "2022-11-19T16:03:59.718699Z",
     "iopub.status.busy": "2022-11-19T16:03:59.71833Z",
     "iopub.status.idle": "2022-11-19T16:03:59.73603Z",
     "shell.execute_reply": "2022-11-19T16:03:59.734667Z",
     "shell.execute_reply.started": "2022-11-19T16:03:59.718665Z"
    }
   },
   "outputs": [
    {
     "name": "stderr",
     "output_type": "stream",
     "text": [
      "C:\\Users\\amema\\AppData\\Local\\Temp\\ipykernel_23088\\1906038641.py:7: SettingWithCopyWarning: \n",
      "A value is trying to be set on a copy of a slice from a DataFrame.\n",
      "Try using .loc[row_indexer,col_indexer] = value instead\n",
      "\n",
      "See the caveats in the documentation: https://pandas.pydata.org/pandas-docs/stable/user_guide/indexing.html#returning-a-view-versus-a-copy\n",
      "  df[\"target\"] = df[\"result\"].apply(lambda x: no_draw(x))\n"
     ]
    }
   ],
   "source": [
    "def no_draw(x):\n",
    "    if x == 2:\n",
    "        return 1\n",
    "    else:\n",
    "        return x\n",
    "    \n",
    "df[\"target\"] = df[\"result\"].apply(lambda x: no_draw(x))"
   ]
  },
  {
   "cell_type": "code",
   "execution_count": 46,
   "metadata": {
    "execution": {
     "iopub.execute_input": "2022-11-19T16:04:10.455687Z",
     "iopub.status.busy": "2022-11-19T16:04:10.455185Z",
     "iopub.status.idle": "2022-11-19T16:04:10.468041Z",
     "shell.execute_reply": "2022-11-19T16:04:10.466758Z",
     "shell.execute_reply.started": "2022-11-19T16:04:10.455642Z"
    }
   },
   "outputs": [],
   "source": [
    "def create_db(df):\n",
    "    columns = [\"home_team\", \"away_team\", \"target\", \"rank_dif\", \"home_goals_mean\", \"home_rank_mean\", \"away_goals_mean\", \"away_rank_mean\", \"home_rank_mean_l5\", \"away_rank_mean_l5\", \"home_goals_suf_mean\", \"away_goals_suf_mean\", \"home_goals_mean_l5\", \"away_goals_mean_l5\", \"home_goals_suf_mean_l5\", \"away_goals_suf_mean_l5\", \"home_game_points_rank_mean\", \"home_game_points_rank_mean_l5\", \"away_game_points_rank_mean\", \"away_game_points_rank_mean_l5\",\"is_friendly_0\", \"is_friendly_1\"]\n",
    "    \n",
    "    base = df.loc[:, columns]\n",
    "    base.loc[:, \"goals_dif\"] = base[\"home_goals_mean\"] - base[\"away_goals_mean\"]\n",
    "    base.loc[:, \"goals_dif_l5\"] = base[\"home_goals_mean_l5\"] - base[\"away_goals_mean_l5\"]\n",
    "    base.loc[:, \"goals_suf_dif\"] = base[\"home_goals_suf_mean\"] - base[\"away_goals_suf_mean\"]\n",
    "    base.loc[:, \"goals_suf_dif_l5\"] = base[\"home_goals_suf_mean_l5\"] - base[\"away_goals_suf_mean_l5\"]\n",
    "    base.loc[:, \"goals_per_ranking_dif\"] = (base[\"home_goals_mean\"] / base[\"home_rank_mean\"]) - (base[\"away_goals_mean\"] / base[\"away_rank_mean\"])\n",
    "    base.loc[:, \"dif_rank_agst\"] = base[\"home_rank_mean\"] - base[\"away_rank_mean\"]\n",
    "    base.loc[:, \"dif_rank_agst_l5\"] = base[\"home_rank_mean_l5\"] - base[\"away_rank_mean_l5\"]\n",
    "    base.loc[:, \"dif_points_rank\"] = base[\"home_game_points_rank_mean\"] - base[\"away_game_points_rank_mean\"]\n",
    "    base.loc[:, \"dif_points_rank_l5\"] = base[\"home_game_points_rank_mean_l5\"] - base[\"away_game_points_rank_mean_l5\"]\n",
    "    \n",
    "    model_df = base[[\"home_team\", \"away_team\", \"target\", \"rank_dif\", \"goals_dif\", \"goals_dif_l5\", \"goals_suf_dif\", \"goals_suf_dif_l5\", \"goals_per_ranking_dif\", \"dif_rank_agst\", \"dif_rank_agst_l5\", \"dif_points_rank\", \"dif_points_rank_l5\", \"is_friendly_0\", \"is_friendly_1\"]]\n",
    "    return model_df"
   ]
  },
  {
   "cell_type": "code",
   "execution_count": 47,
   "metadata": {
    "execution": {
     "iopub.execute_input": "2022-11-19T16:04:10.469955Z",
     "iopub.status.busy": "2022-11-19T16:04:10.469566Z",
     "iopub.status.idle": "2022-11-19T16:04:10.49316Z",
     "shell.execute_reply": "2022-11-19T16:04:10.491802Z",
     "shell.execute_reply.started": "2022-11-19T16:04:10.469906Z"
    }
   },
   "outputs": [],
   "source": [
    "model_db = create_db(df)"
   ]
  },
  {
   "cell_type": "code",
   "execution_count": 48,
   "metadata": {
    "execution": {
     "iopub.execute_input": "2022-11-19T16:04:10.495103Z",
     "iopub.status.busy": "2022-11-19T16:04:10.494759Z",
     "iopub.status.idle": "2022-11-19T16:04:10.525671Z",
     "shell.execute_reply": "2022-11-19T16:04:10.524653Z",
     "shell.execute_reply.started": "2022-11-19T16:04:10.495072Z"
    }
   },
   "outputs": [
    {
     "data": {
      "text/html": [
       "<div>\n",
       "<style scoped>\n",
       "    .dataframe tbody tr th:only-of-type {\n",
       "        vertical-align: middle;\n",
       "    }\n",
       "\n",
       "    .dataframe tbody tr th {\n",
       "        vertical-align: top;\n",
       "    }\n",
       "\n",
       "    .dataframe thead th {\n",
       "        text-align: right;\n",
       "    }\n",
       "</style>\n",
       "<table border=\"1\" class=\"dataframe\">\n",
       "  <thead>\n",
       "    <tr style=\"text-align: right;\">\n",
       "      <th></th>\n",
       "      <th>home_team</th>\n",
       "      <th>away_team</th>\n",
       "      <th>target</th>\n",
       "      <th>rank_dif</th>\n",
       "      <th>goals_dif</th>\n",
       "      <th>goals_dif_l5</th>\n",
       "      <th>goals_suf_dif</th>\n",
       "      <th>goals_suf_dif_l5</th>\n",
       "      <th>goals_per_ranking_dif</th>\n",
       "      <th>dif_rank_agst</th>\n",
       "      <th>dif_rank_agst_l5</th>\n",
       "      <th>dif_points_rank</th>\n",
       "      <th>dif_points_rank_l5</th>\n",
       "      <th>is_friendly_0</th>\n",
       "      <th>is_friendly_1</th>\n",
       "    </tr>\n",
       "  </thead>\n",
       "  <tbody>\n",
       "    <tr>\n",
       "      <th>4</th>\n",
       "      <td>Barbados</td>\n",
       "      <td>Cuba</td>\n",
       "      <td>1</td>\n",
       "      <td>-21.0</td>\n",
       "      <td>2.000000</td>\n",
       "      <td>2.0</td>\n",
       "      <td>1.000000</td>\n",
       "      <td>1.0</td>\n",
       "      <td>0.037037</td>\n",
       "      <td>-92.000000</td>\n",
       "      <td>-92.0</td>\n",
       "      <td>0.018519</td>\n",
       "      <td>0.018519</td>\n",
       "      <td>0</td>\n",
       "      <td>1</td>\n",
       "    </tr>\n",
       "    <tr>\n",
       "      <th>6</th>\n",
       "      <td>Barbados</td>\n",
       "      <td>Cuba</td>\n",
       "      <td>1</td>\n",
       "      <td>-21.0</td>\n",
       "      <td>1.000000</td>\n",
       "      <td>1.0</td>\n",
       "      <td>0.500000</td>\n",
       "      <td>0.5</td>\n",
       "      <td>0.008511</td>\n",
       "      <td>-35.500000</td>\n",
       "      <td>-35.5</td>\n",
       "      <td>0.008897</td>\n",
       "      <td>0.008897</td>\n",
       "      <td>0</td>\n",
       "      <td>1</td>\n",
       "    </tr>\n",
       "    <tr>\n",
       "      <th>31</th>\n",
       "      <td>Mongolia</td>\n",
       "      <td>Guam</td>\n",
       "      <td>1</td>\n",
       "      <td>-4.0</td>\n",
       "      <td>4.000000</td>\n",
       "      <td>4.0</td>\n",
       "      <td>-1.000000</td>\n",
       "      <td>-1.0</td>\n",
       "      <td>0.021622</td>\n",
       "      <td>0.000000</td>\n",
       "      <td>0.0</td>\n",
       "      <td>0.016216</td>\n",
       "      <td>0.016216</td>\n",
       "      <td>1</td>\n",
       "      <td>0</td>\n",
       "    </tr>\n",
       "    <tr>\n",
       "      <th>32</th>\n",
       "      <td>Nepal</td>\n",
       "      <td>Bhutan</td>\n",
       "      <td>0</td>\n",
       "      <td>-22.0</td>\n",
       "      <td>1.000000</td>\n",
       "      <td>1.0</td>\n",
       "      <td>0.000000</td>\n",
       "      <td>0.0</td>\n",
       "      <td>0.004975</td>\n",
       "      <td>7.000000</td>\n",
       "      <td>7.0</td>\n",
       "      <td>0.000000</td>\n",
       "      <td>0.000000</td>\n",
       "      <td>1</td>\n",
       "      <td>0</td>\n",
       "    </tr>\n",
       "    <tr>\n",
       "      <th>33</th>\n",
       "      <td>Bangladesh</td>\n",
       "      <td>Pakistan</td>\n",
       "      <td>0</td>\n",
       "      <td>-7.0</td>\n",
       "      <td>-1.000000</td>\n",
       "      <td>-1.0</td>\n",
       "      <td>-0.500000</td>\n",
       "      <td>-0.5</td>\n",
       "      <td>-0.007200</td>\n",
       "      <td>30.500000</td>\n",
       "      <td>30.5</td>\n",
       "      <td>-0.010437</td>\n",
       "      <td>-0.010437</td>\n",
       "      <td>1</td>\n",
       "      <td>0</td>\n",
       "    </tr>\n",
       "    <tr>\n",
       "      <th>...</th>\n",
       "      <td>...</td>\n",
       "      <td>...</td>\n",
       "      <td>...</td>\n",
       "      <td>...</td>\n",
       "      <td>...</td>\n",
       "      <td>...</td>\n",
       "      <td>...</td>\n",
       "      <td>...</td>\n",
       "      <td>...</td>\n",
       "      <td>...</td>\n",
       "      <td>...</td>\n",
       "      <td>...</td>\n",
       "      <td>...</td>\n",
       "      <td>...</td>\n",
       "      <td>...</td>\n",
       "    </tr>\n",
       "    <tr>\n",
       "      <th>3334</th>\n",
       "      <td>Norway</td>\n",
       "      <td>Serbia</td>\n",
       "      <td>1</td>\n",
       "      <td>11.0</td>\n",
       "      <td>-0.038095</td>\n",
       "      <td>-0.8</td>\n",
       "      <td>-0.230159</td>\n",
       "      <td>0.0</td>\n",
       "      <td>-0.005282</td>\n",
       "      <td>9.014286</td>\n",
       "      <td>-3.4</td>\n",
       "      <td>-0.011343</td>\n",
       "      <td>0.016348</td>\n",
       "      <td>1</td>\n",
       "      <td>0</td>\n",
       "    </tr>\n",
       "    <tr>\n",
       "      <th>3335</th>\n",
       "      <td>Sweden</td>\n",
       "      <td>Slovenia</td>\n",
       "      <td>1</td>\n",
       "      <td>-45.0</td>\n",
       "      <td>0.030812</td>\n",
       "      <td>0.2</td>\n",
       "      <td>0.137255</td>\n",
       "      <td>0.2</td>\n",
       "      <td>0.009459</td>\n",
       "      <td>-25.102241</td>\n",
       "      <td>10.2</td>\n",
       "      <td>0.022485</td>\n",
       "      <td>-0.020314</td>\n",
       "      <td>1</td>\n",
       "      <td>0</td>\n",
       "    </tr>\n",
       "    <tr>\n",
       "      <th>3336</th>\n",
       "      <td>Kosovo</td>\n",
       "      <td>Cyprus</td>\n",
       "      <td>0</td>\n",
       "      <td>-2.0</td>\n",
       "      <td>0.667341</td>\n",
       "      <td>0.6</td>\n",
       "      <td>-0.463094</td>\n",
       "      <td>0.0</td>\n",
       "      <td>0.007625</td>\n",
       "      <td>7.037917</td>\n",
       "      <td>1.6</td>\n",
       "      <td>0.008791</td>\n",
       "      <td>-0.002827</td>\n",
       "      <td>1</td>\n",
       "      <td>0</td>\n",
       "    </tr>\n",
       "    <tr>\n",
       "      <th>3337</th>\n",
       "      <td>Greece</td>\n",
       "      <td>Northern Ireland</td>\n",
       "      <td>0</td>\n",
       "      <td>-9.0</td>\n",
       "      <td>0.067653</td>\n",
       "      <td>0.2</td>\n",
       "      <td>-0.369979</td>\n",
       "      <td>-1.2</td>\n",
       "      <td>-0.002915</td>\n",
       "      <td>16.024841</td>\n",
       "      <td>0.6</td>\n",
       "      <td>0.027775</td>\n",
       "      <td>0.018570</td>\n",
       "      <td>1</td>\n",
       "      <td>0</td>\n",
       "    </tr>\n",
       "    <tr>\n",
       "      <th>3338</th>\n",
       "      <td>Fiji</td>\n",
       "      <td>Solomon Islands</td>\n",
       "      <td>0</td>\n",
       "      <td>26.0</td>\n",
       "      <td>-1.119048</td>\n",
       "      <td>-0.6</td>\n",
       "      <td>-0.634921</td>\n",
       "      <td>-0.8</td>\n",
       "      <td>-0.006351</td>\n",
       "      <td>-7.476190</td>\n",
       "      <td>5.8</td>\n",
       "      <td>-0.000581</td>\n",
       "      <td>-0.003519</td>\n",
       "      <td>1</td>\n",
       "      <td>0</td>\n",
       "    </tr>\n",
       "  </tbody>\n",
       "</table>\n",
       "<p>3204 rows × 15 columns</p>\n",
       "</div>"
      ],
      "text/plain": [
       "       home_team         away_team  target  rank_dif  goals_dif  goals_dif_l5  \\\n",
       "4       Barbados              Cuba       1     -21.0   2.000000           2.0   \n",
       "6       Barbados              Cuba       1     -21.0   1.000000           1.0   \n",
       "31      Mongolia              Guam       1      -4.0   4.000000           4.0   \n",
       "32         Nepal            Bhutan       0     -22.0   1.000000           1.0   \n",
       "33    Bangladesh          Pakistan       0      -7.0  -1.000000          -1.0   \n",
       "...          ...               ...     ...       ...        ...           ...   \n",
       "3334      Norway            Serbia       1      11.0  -0.038095          -0.8   \n",
       "3335      Sweden          Slovenia       1     -45.0   0.030812           0.2   \n",
       "3336      Kosovo            Cyprus       0      -2.0   0.667341           0.6   \n",
       "3337      Greece  Northern Ireland       0      -9.0   0.067653           0.2   \n",
       "3338        Fiji   Solomon Islands       0      26.0  -1.119048          -0.6   \n",
       "\n",
       "      goals_suf_dif  goals_suf_dif_l5  goals_per_ranking_dif  dif_rank_agst  \\\n",
       "4          1.000000               1.0               0.037037     -92.000000   \n",
       "6          0.500000               0.5               0.008511     -35.500000   \n",
       "31        -1.000000              -1.0               0.021622       0.000000   \n",
       "32         0.000000               0.0               0.004975       7.000000   \n",
       "33        -0.500000              -0.5              -0.007200      30.500000   \n",
       "...             ...               ...                    ...            ...   \n",
       "3334      -0.230159               0.0              -0.005282       9.014286   \n",
       "3335       0.137255               0.2               0.009459     -25.102241   \n",
       "3336      -0.463094               0.0               0.007625       7.037917   \n",
       "3337      -0.369979              -1.2              -0.002915      16.024841   \n",
       "3338      -0.634921              -0.8              -0.006351      -7.476190   \n",
       "\n",
       "      dif_rank_agst_l5  dif_points_rank  dif_points_rank_l5  is_friendly_0  \\\n",
       "4                -92.0         0.018519            0.018519              0   \n",
       "6                -35.5         0.008897            0.008897              0   \n",
       "31                 0.0         0.016216            0.016216              1   \n",
       "32                 7.0         0.000000            0.000000              1   \n",
       "33                30.5        -0.010437           -0.010437              1   \n",
       "...                ...              ...                 ...            ...   \n",
       "3334              -3.4        -0.011343            0.016348              1   \n",
       "3335              10.2         0.022485           -0.020314              1   \n",
       "3336               1.6         0.008791           -0.002827              1   \n",
       "3337               0.6         0.027775            0.018570              1   \n",
       "3338               5.8        -0.000581           -0.003519              1   \n",
       "\n",
       "      is_friendly_1  \n",
       "4                 1  \n",
       "6                 1  \n",
       "31                0  \n",
       "32                0  \n",
       "33                0  \n",
       "...             ...  \n",
       "3334              0  \n",
       "3335              0  \n",
       "3336              0  \n",
       "3337              0  \n",
       "3338              0  \n",
       "\n",
       "[3204 rows x 15 columns]"
      ]
     },
     "execution_count": 48,
     "metadata": {},
     "output_type": "execute_result"
    }
   ],
   "source": [
    "model_db"
   ]
  },
  {
   "cell_type": "markdown",
   "metadata": {},
   "source": [
    "# The model\n",
    "\n",
    "Maintenant que nous avons une base de données prête et avec des colonnes à pouvoir prédictif, nous pouvons commencer notre modélisation.\n",
    "\n",
    "Deux modèles seront testés : Random Forest et Gradient Boosting. Le sélectionné sera celui avec le meilleur rappel."
   ]
  },
  {
   "cell_type": "code",
   "execution_count": 49,
   "metadata": {
    "execution": {
     "iopub.execute_input": "2022-11-19T16:04:10.5275Z",
     "iopub.status.busy": "2022-11-19T16:04:10.527167Z",
     "iopub.status.idle": "2022-11-19T16:04:10.540069Z",
     "shell.execute_reply": "2022-11-19T16:04:10.538758Z",
     "shell.execute_reply.started": "2022-11-19T16:04:10.527471Z"
    }
   },
   "outputs": [],
   "source": [
    "X = model_db.iloc[:, 3:]\n",
    "y = model_db[[\"target\"]]"
   ]
  },
  {
   "cell_type": "code",
   "execution_count": 50,
   "metadata": {
    "execution": {
     "iopub.execute_input": "2022-11-19T16:04:10.541963Z",
     "iopub.status.busy": "2022-11-19T16:04:10.541485Z",
     "iopub.status.idle": "2022-11-19T16:04:10.555071Z",
     "shell.execute_reply": "2022-11-19T16:04:10.553935Z",
     "shell.execute_reply.started": "2022-11-19T16:04:10.541918Z"
    }
   },
   "outputs": [],
   "source": [
    "from sklearn.ensemble import RandomForestClassifier, GradientBoostingClassifier\n",
    "from sklearn.model_selection import train_test_split, GridSearchCV"
   ]
  },
  {
   "cell_type": "code",
   "execution_count": 51,
   "metadata": {
    "execution": {
     "iopub.execute_input": "2022-11-19T16:04:10.557282Z",
     "iopub.status.busy": "2022-11-19T16:04:10.556653Z",
     "iopub.status.idle": "2022-11-19T16:04:10.579573Z",
     "shell.execute_reply": "2022-11-19T16:04:10.578308Z",
     "shell.execute_reply.started": "2022-11-19T16:04:10.55723Z"
    }
   },
   "outputs": [],
   "source": [
    "X_train, X_test, y_train, y_test = train_test_split(X, y, test_size= 0.2, random_state=1)"
   ]
  },
  {
   "cell_type": "code",
   "execution_count": 52,
   "metadata": {},
   "outputs": [],
   "source": [
    "import numpy as np"
   ]
  },
  {
   "cell_type": "code",
   "execution_count": 53,
   "metadata": {
    "execution": {
     "iopub.execute_input": "2022-11-19T16:04:10.58428Z",
     "iopub.status.busy": "2022-11-19T16:04:10.583801Z",
     "iopub.status.idle": "2022-11-19T16:05:06.413026Z",
     "shell.execute_reply": "2022-11-19T16:05:06.411945Z",
     "shell.execute_reply.started": "2022-11-19T16:04:10.584205Z"
    }
   },
   "outputs": [
    {
     "data": {
      "text/plain": [
       "GridSearchCV(cv=3, estimator=GradientBoostingClassifier(random_state=5),\n",
       "             n_jobs=-1,\n",
       "             param_grid={'learning_rate': [0.01, 0.1, 0.5],\n",
       "                         'max_depth': [3, 5, 10], 'max_features': ['sqrt'],\n",
       "                         'min_samples_leaf': [3, 5],\n",
       "                         'min_samples_split': [5, 10],\n",
       "                         'n_estimators': [100, 200]},\n",
       "             verbose=False)"
      ]
     },
     "execution_count": 53,
     "metadata": {},
     "output_type": "execute_result"
    }
   ],
   "source": [
    "gb = GradientBoostingClassifier(random_state=5)\n",
    "\n",
    "params = {\"learning_rate\": [0.01, 0.1, 0.5],\n",
    "            \"min_samples_split\": [5, 10],\n",
    "            \"min_samples_leaf\": [3, 5],\n",
    "            \"max_depth\":[3,5,10],\n",
    "            \"max_features\":[\"sqrt\"],\n",
    "            \"n_estimators\":[100, 200]\n",
    "         } \n",
    "\n",
    "gb_cv = GridSearchCV(gb, params, cv = 3, n_jobs = -1, verbose = False)\n",
    "\n",
    "gb_cv.fit(X_train.values, np.ravel(y_train))"
   ]
  },
  {
   "cell_type": "code",
   "execution_count": 54,
   "metadata": {
    "execution": {
     "iopub.execute_input": "2022-11-19T16:05:06.414622Z",
     "iopub.status.busy": "2022-11-19T16:05:06.414295Z",
     "iopub.status.idle": "2022-11-19T16:05:06.419211Z",
     "shell.execute_reply": "2022-11-19T16:05:06.41831Z",
     "shell.execute_reply.started": "2022-11-19T16:05:06.41459Z"
    }
   },
   "outputs": [],
   "source": [
    "gb = gb_cv.best_estimator_"
   ]
  },
  {
   "cell_type": "code",
   "execution_count": 55,
   "metadata": {
    "execution": {
     "iopub.execute_input": "2022-11-19T16:05:06.421212Z",
     "iopub.status.busy": "2022-11-19T16:05:06.420657Z",
     "iopub.status.idle": "2022-11-19T16:05:06.435299Z",
     "shell.execute_reply": "2022-11-19T16:05:06.434184Z",
     "shell.execute_reply.started": "2022-11-19T16:05:06.421179Z"
    }
   },
   "outputs": [
    {
     "data": {
      "text/plain": [
       "GradientBoostingClassifier(learning_rate=0.01, max_features='sqrt',\n",
       "                           min_samples_leaf=3, min_samples_split=5,\n",
       "                           n_estimators=200, random_state=5)"
      ]
     },
     "execution_count": 55,
     "metadata": {},
     "output_type": "execute_result"
    }
   ],
   "source": [
    "gb"
   ]
  },
  {
   "cell_type": "code",
   "execution_count": 56,
   "metadata": {
    "execution": {
     "iopub.execute_input": "2022-11-19T16:05:06.437373Z",
     "iopub.status.busy": "2022-11-19T16:05:06.436954Z",
     "iopub.status.idle": "2022-11-19T16:05:09.237012Z",
     "shell.execute_reply": "2022-11-19T16:05:09.235743Z",
     "shell.execute_reply.started": "2022-11-19T16:05:06.437335Z"
    }
   },
   "outputs": [
    {
     "data": {
      "text/plain": [
       "GridSearchCV(cv=3, estimator=RandomForestClassifier(random_state=1), n_jobs=-1,\n",
       "             param_grid={'max_depth': [20], 'max_features': ['sqrt'],\n",
       "                         'max_leaf_nodes': [175], 'min_samples_leaf': [5],\n",
       "                         'min_samples_split': [10], 'n_estimators': [250]},\n",
       "             verbose=False)"
      ]
     },
     "execution_count": 56,
     "metadata": {},
     "output_type": "execute_result"
    }
   ],
   "source": [
    "params_rf = {\"max_depth\": [20],\n",
    "                \"min_samples_split\": [10],\n",
    "                \"max_leaf_nodes\": [175],\n",
    "                \"min_samples_leaf\": [5],\n",
    "                \"n_estimators\": [250],\n",
    "                 \"max_features\": [\"sqrt\"],\n",
    "                }\n",
    "\n",
    "rf = RandomForestClassifier(random_state=1)\n",
    "\n",
    "rf_cv = GridSearchCV(rf, params_rf, cv = 3, n_jobs = -1, verbose = False)\n",
    "\n",
    "rf_cv.fit(X_train.values, np.ravel(y_train))"
   ]
  },
  {
   "cell_type": "code",
   "execution_count": 57,
   "metadata": {
    "execution": {
     "iopub.execute_input": "2022-11-19T16:05:09.239014Z",
     "iopub.status.busy": "2022-11-19T16:05:09.238658Z",
     "iopub.status.idle": "2022-11-19T16:05:09.243741Z",
     "shell.execute_reply": "2022-11-19T16:05:09.24254Z",
     "shell.execute_reply.started": "2022-11-19T16:05:09.238982Z"
    }
   },
   "outputs": [],
   "source": [
    "rf = rf_cv.best_estimator_"
   ]
  },
  {
   "cell_type": "code",
   "execution_count": 58,
   "metadata": {
    "execution": {
     "iopub.execute_input": "2022-11-19T16:05:09.245707Z",
     "iopub.status.busy": "2022-11-19T16:05:09.244957Z",
     "iopub.status.idle": "2022-11-19T16:05:09.25858Z",
     "shell.execute_reply": "2022-11-19T16:05:09.257274Z",
     "shell.execute_reply.started": "2022-11-19T16:05:09.245658Z"
    }
   },
   "outputs": [],
   "source": [
    "from sklearn.metrics import confusion_matrix, roc_curve, roc_auc_score"
   ]
  },
  {
   "cell_type": "code",
   "execution_count": 59,
   "metadata": {
    "execution": {
     "iopub.execute_input": "2022-11-19T16:05:09.260323Z",
     "iopub.status.busy": "2022-11-19T16:05:09.259978Z",
     "iopub.status.idle": "2022-11-19T16:05:09.272577Z",
     "shell.execute_reply": "2022-11-19T16:05:09.271361Z",
     "shell.execute_reply.started": "2022-11-19T16:05:09.260293Z"
    }
   },
   "outputs": [],
   "source": [
    "def analyze(model):\n",
    "    fpr, tpr, _ = roc_curve(y_test, model.predict_proba(X_test.values)[:,1]) #test AUC\n",
    "    plt.figure(figsize=(15,10))\n",
    "    plt.plot([0, 1], [0, 1], 'k--')\n",
    "    plt.plot(fpr, tpr, label=\"test\")\n",
    "\n",
    "    fpr_train, tpr_train, _ = roc_curve(y_train, model.predict_proba(X_train.values)[:,1]) #train AUC\n",
    "    plt.plot(fpr_train, tpr_train, label=\"train\")\n",
    "    auc_test = roc_auc_score(y_test, model.predict_proba(X_test.values)[:,1])\n",
    "    auc_train = roc_auc_score(y_train, model.predict_proba(X_train.values)[:,1])\n",
    "    plt.legend()\n",
    "    plt.title('AUC score is %.2f on test and %.2f on training'%(auc_test, auc_train))\n",
    "    plt.show()\n",
    "    \n",
    "    plt.figure(figsize=(15, 10))\n",
    "    cm = confusion_matrix(y_test, model.predict(X_test.values))\n",
    "    sns.heatmap(cm, annot=True, fmt=\"d\")"
   ]
  },
  {
   "cell_type": "code",
   "execution_count": 60,
   "metadata": {
    "execution": {
     "iopub.execute_input": "2022-11-19T16:05:09.27677Z",
     "iopub.status.busy": "2022-11-19T16:05:09.276381Z",
     "iopub.status.idle": "2022-11-19T16:05:09.852558Z",
     "shell.execute_reply": "2022-11-19T16:05:09.85139Z",
     "shell.execute_reply.started": "2022-11-19T16:05:09.276736Z"
    }
   },
   "outputs": [
    {
     "data": {
      "image/png": "[encoded data removed]",
      "text/plain": [
       "<Figure size 1080x720 with 1 Axes>"
      ]
     },
     "metadata": {
      "needs_background": "light"
     },
     "output_type": "display_data"
    },
    {
     "data": {
      "image/png": "[encoded data removed]",
      "text/plain": [
       "<Figure size 1080x720 with 2 Axes>"
      ]
     },
     "metadata": {
      "needs_background": "light"
     },
     "output_type": "display_data"
    }
   ],
   "source": [
    "analyze(gb)"
   ]
  },
  {
   "cell_type": "code",
   "execution_count": 61,
   "metadata": {
    "execution": {
     "iopub.execute_input": "2022-11-19T16:05:09.854178Z",
     "iopub.status.busy": "2022-11-19T16:05:09.853848Z",
     "iopub.status.idle": "2022-11-19T16:05:10.836476Z",
     "shell.execute_reply": "2022-11-19T16:05:10.835294Z",
     "shell.execute_reply.started": "2022-11-19T16:05:09.854147Z"
    }
   },
   "outputs": [
    {
     "data": {
      "image/png": "[encoded data removed]",
      "text/plain": [
       "<Figure size 1080x720 with 1 Axes>"
      ]
     },
     "metadata": {
      "needs_background": "light"
     },
     "output_type": "display_data"
    },
    {
     "data": {
      "image/png": "[encoded data removed]",
      "text/plain": [
       "<Figure size 1080x720 with 2 Axes>"
      ]
     },
     "metadata": {
      "needs_background": "light"
     },
     "output_type": "display_data"
    }
   ],
   "source": [
    "analyze(rf)"
   ]
  },
  {
   "cell_type": "markdown",
   "metadata": {},
   "source": [
    "Le modèle Random Forest est un peu meilleur mais semble sous-ajusté. Nous allons donc utiliser le modèle Gradient Boosting."
   ]
  },
  {
   "cell_type": "markdown",
   "metadata": {},
   "source": [
    "# WC Simulation\n",
    "\n"
   ]
  },
  {
   "cell_type": "code",
   "execution_count": 62,
   "metadata": {},
   "outputs": [],
   "source": [
    "matches = []\n",
    "groups = [\"A\", \"B\"]\n",
    "matches.append((groups[0],'Argentina', 'Croatia'))\n",
    "matches.append((groups[1],'Morocco', 'France'))"
   ]
  },
  {
   "cell_type": "code",
   "execution_count": 63,
   "metadata": {
    "execution": {
     "iopub.execute_input": "2022-11-19T16:05:11.821233Z",
     "iopub.status.busy": "2022-11-19T16:05:11.820833Z",
     "iopub.status.idle": "2022-11-19T16:05:11.832339Z",
     "shell.execute_reply": "2022-11-19T16:05:11.831022Z",
     "shell.execute_reply.started": "2022-11-19T16:05:11.8212Z"
    }
   },
   "outputs": [],
   "source": [
    "def find_stats(team_1):\n",
    "    past_games = team_stats_raw[(team_stats_raw[\"team\"] == team_1)].sort_values(\"date\")\n",
    "    last5 = team_stats_raw[(team_stats_raw[\"team\"] == team_1)].sort_values(\"date\").tail(5)\n",
    "\n",
    "    team_1_rank = past_games[\"rank\"].values[-1]\n",
    "    team_1_goals = past_games.score.mean()\n",
    "    team_1_goals_l5 = last5.score.mean()\n",
    "    team_1_goals_suf = past_games.suf_score.mean()\n",
    "    team_1_goals_suf_l5 = last5.suf_score.mean()\n",
    "    team_1_rank_suf = past_games.rank_suf.mean()\n",
    "    team_1_rank_suf_l5 = last5.rank_suf.mean()\n",
    "    team_1_gp_rank = past_games.points_by_rank.mean()\n",
    "    team_1_gp_rank_l5 = last5.points_by_rank.mean()\n",
    "\n",
    "    return [team_1_rank, team_1_goals, team_1_goals_l5, team_1_goals_suf, team_1_goals_suf_l5, team_1_rank_suf, team_1_rank_suf_l5, team_1_gp_rank, team_1_gp_rank_l5]"
   ]
  },
  {
   "cell_type": "code",
   "execution_count": 64,
   "metadata": {
    "execution": {
     "iopub.execute_input": "2022-11-19T16:05:11.83501Z",
     "iopub.status.busy": "2022-11-19T16:05:11.834296Z",
     "iopub.status.idle": "2022-11-19T16:05:11.846997Z",
     "shell.execute_reply": "2022-11-19T16:05:11.845638Z",
     "shell.execute_reply.started": "2022-11-19T16:05:11.834974Z"
    }
   },
   "outputs": [],
   "source": [
    "def find_features(team_1, team_2):\n",
    "    rank_dif = team_1[0] - team_2[0]\n",
    "    goals_dif = team_1[1] - team_2[1]\n",
    "    goals_dif_l5 = team_1[2] - team_2[2]\n",
    "    goals_suf_dif = team_1[3] - team_2[3]\n",
    "    goals_suf_dif_l5 = team_1[4] - team_2[4]\n",
    "    goals_per_ranking_dif = (team_1[1]/team_1[5]) - (team_2[1]/team_2[5])\n",
    "    dif_rank_agst = team_1[5] - team_2[5]\n",
    "    dif_rank_agst_l5 = team_1[6] - team_2[6]\n",
    "    dif_gp_rank = team_1[7] - team_2[7]\n",
    "    dif_gp_rank_l5 = team_1[8] - team_2[8]\n",
    "    \n",
    "    return [rank_dif, goals_dif, goals_dif_l5, goals_suf_dif, goals_suf_dif_l5, goals_per_ranking_dif, dif_rank_agst, dif_rank_agst_l5, dif_gp_rank, dif_gp_rank_l5, 1, 0]"
   ]
  },
  {
   "cell_type": "markdown",
   "metadata": {},
   "source": [
    "Maintenant, nous sommes capables de simuler.\n",
    "\n",
    "Étant donné que le modèle simule si l'équipe 1 gagnera ou non, il est nécessaire de créer des critères pour définir un match nul. De plus, puisque nous n'avons pas l'avantage du terrain à la Coupe du monde, l'idée est de prédire le match deux fois, en changeant l'équipe 1 et l'équipe 2. L'équipe avec la moyenne de probabilités la plus élevée sera désignée comme vainqueur. Lors de la phase de groupes, si \"l'équipe à domicile\" gagne avec l'équipe 1 et perd avec l'équipe 2, ou si \"l'équipe à domicile\" gagne avec l'équipe 2 et perd avec l'équipe 1, un match nul sera attribué dans ce match."
   ]
  },
  {
   "cell_type": "code",
   "execution_count": 68,
   "metadata": {},
   "outputs": [
    {
     "name": "stdout",
     "output_type": "stream",
     "text": [
      "\n",
      "\n",
      "---------- Starting Analysis for Group A ----------\n",
      "Group A - Argentina vs. Croatia: Winner Croatia with 0.60 probability\n",
      "\n",
      "\n",
      "Group A advanced: \n",
      "Croatia -------- 3\n",
      "Argentina -------- 0\n",
      "\n",
      "\n",
      "---------- Starting Analysis for Group B ----------\n",
      "Group B - Morocco vs. France: Winner France with 0.59 probability\n",
      "\n",
      "\n",
      "Group B advanced: \n",
      "France -------- 3\n",
      "Morocco -------- 0\n"
     ]
    }
   ],
   "source": [
    "import numpy as np\n",
    "\n",
    "advanced_group = []\n",
    "last_group = \"\"\n",
    "\n",
    "\n",
    "# Define the groups and teams\n",
    "groups = [\"A\", \"B\"]\n",
    "teams_group_A = ['Argentina', 'Croatia']\n",
    "teams_group_B = ['Morocco', 'France']\n",
    "\n",
    "# Initialize the table dictionary with the group keys and empty lists\n",
    "table = {group: [] for group in groups}\n",
    "\n",
    "# Add teams to the respective groups in the table dictionary\n",
    "for team in teams_group_A:\n",
    "    table['A'].append([team, 0, []])\n",
    "for team in teams_group_B:\n",
    "    table['B'].append([team, 0, []])\n",
    "\n",
    "# Simulate the matches\n",
    "for teams in matches:\n",
    "    draw = False\n",
    "    team_1 = find_stats(teams[1])\n",
    "    team_2 = find_stats(teams[2])\n",
    "\n",
    "    features_g1 = find_features(team_1, team_2)\n",
    "    features_g2 = find_features(team_2, team_1)\n",
    "\n",
    "    # Simulate the match using team 1 as home team\n",
    "    probs_g1 = gb.predict_proba([features_g1])\n",
    "    team_1_prob_g1 = probs_g1[0][0]\n",
    "    team_2_prob_g1 = probs_g1[0][1]\n",
    "\n",
    "    # Simulate the match using team 2 as home team\n",
    "    probs_g2 = gb.predict_proba([features_g2])\n",
    "    team_1_prob_g2 = probs_g2[0][1]\n",
    "    team_2_prob_g2 = probs_g2[0][0]\n",
    "\n",
    "    team_1_prob = (team_1_prob_g1 + team_2_prob_g2) / 2\n",
    "    team_2_prob = (team_2_prob_g1 + team_1_prob_g2) / 2\n",
    "\n",
    "    if ((team_1_prob_g1 > team_2_prob_g1) and (team_2_prob_g2 > team_1_prob_g2)) or ((team_1_prob_g1 < team_2_prob_g1) and (team_2_prob_g2 < team_1_prob_g2)):\n",
    "        draw = True\n",
    "        for i in table[teams[0]]:\n",
    "            if i[0] == teams[1] or i[0] == teams[2]:\n",
    "                i[1] += 1\n",
    "                \n",
    "    elif team_1_prob > team_2_prob:\n",
    "        winner = teams[1]\n",
    "        winner_proba = team_1_prob\n",
    "        for i in table[teams[0]]:\n",
    "            if i[0] == teams[1]:\n",
    "                i[1] += 3\n",
    "                \n",
    "    elif team_2_prob > team_1_prob:  \n",
    "        winner = teams[2]\n",
    "        winner_proba = team_2_prob\n",
    "        for i in table[teams[0]]:\n",
    "            if i[0] == teams[2]:\n",
    "                i[1] += 3\n",
    "    \n",
    "    for i in table[teams[0]]:\n",
    "        if i[0] == teams[1]:\n",
    "            i[2].append(team_1_prob)\n",
    "        if i[0] == teams[2]:\n",
    "            i[2].append(team_2_prob)\n",
    "\n",
    "    if last_group != teams[0]:\n",
    "        if last_group != \"\":\n",
    "            print(\"\\n\")\n",
    "            print(\"Group %s advanced: \" % last_group)\n",
    "\n",
    "            for i in table[last_group]:\n",
    "                i[2] = np.mean(i[2])\n",
    "            \n",
    "            final_points = table[last_group]\n",
    "            final_table = sorted(final_points, key=lambda x: (x[1], x[2]), reverse=True)\n",
    "            advanced_group.append([final_table[0][0], final_table[1][0]])\n",
    "            for i in final_table:\n",
    "                print(\"%s -------- %d\" % (i[0], i[1]))\n",
    "        \n",
    "        print(\"\\n\")\n",
    "        print(\"-\" * 10 + \" Starting Analysis for Group %s \" % teams[0] + \"-\" * 10)\n",
    "\n",
    "    if draw == False:\n",
    "        print(\"Group %s - %s vs. %s: Winner %s with %.2f probability\" % (teams[0], teams[1], teams[2], winner, winner_proba))\n",
    "    else:\n",
    "        print(\"Group %s - %s vs. %s: Draw\" % (teams[0], teams[1], teams[2]))\n",
    "    last_group = teams[0]\n",
    "\n",
    "print(\"\\n\")\n",
    "print(\"Group %s advanced: \" % last_group)\n",
    "\n",
    "for i in table[last_group]:\n",
    "    i[2] = np.mean(i[2])\n",
    "\n",
    "final_points = table[last_group]\n",
    "final_table = sorted(final_points, key=lambda x: (x[1], x[2]), reverse=True)\n",
    "advanced_group.append([final_table[0][0], final_table[1][0]])\n",
    "for i in final_table:\n",
    "    print(\"%s -------- %d\" % (i[0], i[1]))\n"
   ]
  },
  {
   "cell_type": "code",
   "execution_count": 69,
   "metadata": {
    "execution": {
     "iopub.execute_input": "2022-11-19T16:05:12.354185Z",
     "iopub.status.busy": "2022-11-19T16:05:12.353752Z",
     "iopub.status.idle": "2022-11-19T16:05:12.359488Z",
     "shell.execute_reply": "2022-11-19T16:05:12.358309Z",
     "shell.execute_reply.started": "2022-11-19T16:05:12.354152Z"
    }
   },
   "outputs": [],
   "source": [
    "advanced = advanced_group"
   ]
  },
  {
   "cell_type": "code",
   "execution_count": 70,
   "metadata": {
    "execution": {
     "iopub.execute_input": "2022-11-19T16:05:12.361415Z",
     "iopub.status.busy": "2022-11-19T16:05:12.360953Z",
     "iopub.status.idle": "2022-11-19T16:05:12.372349Z",
     "shell.execute_reply": "2022-11-19T16:05:12.371347Z",
     "shell.execute_reply.started": "2022-11-19T16:05:12.361379Z"
    }
   },
   "outputs": [],
   "source": [
    "playoffs = { \"Semi-Final\": [], \"Final\": []}"
   ]
  },
  {
   "cell_type": "code",
   "execution_count": 71,
   "metadata": {
    "execution": {
     "iopub.execute_input": "2022-11-19T16:05:12.37486Z",
     "iopub.status.busy": "2022-11-19T16:05:12.374365Z",
     "iopub.status.idle": "2022-11-19T16:05:12.544568Z",
     "shell.execute_reply": "2022-11-19T16:05:12.54341Z",
     "shell.execute_reply.started": "2022-11-19T16:05:12.374814Z"
    }
   },
   "outputs": [
    {
     "name": "stdout",
     "output_type": "stream",
     "text": [
      "----------\n",
      "Starting simulation of Semi-Final\n",
      "----------\n",
      "\n",
      "\n",
      "Croatia vs. Morocco: Croatia advances with prob 0.58\n",
      "Argentina vs. France: Argentina advances with prob 0.53\n",
      "----------\n",
      "Starting simulation of Final\n",
      "----------\n",
      "\n",
      "\n",
      "Croatia vs. Argentina: Argentina advances with prob 0.65\n"
     ]
    }
   ],
   "source": [
    "for p in playoffs.keys():\n",
    "    playoffs[p] = []\n",
    "\n",
    "actual_round = \"\"\n",
    "next_rounds = []\n",
    "\n",
    "for p in playoffs.keys():\n",
    "    if p ==  \"Semi-Final\":\n",
    "        control = []\n",
    "        for a in range(0, len(advanced*2), 1):\n",
    "            if a < len(advanced):\n",
    "                if a % 2 == 0:\n",
    "                    control.append((advanced*2)[a][0])\n",
    "                else:\n",
    "                    control.append((advanced*2)[a][1])\n",
    "            else:\n",
    "                if a % 2 == 0:\n",
    "                    control.append((advanced*2)[a][1])\n",
    "                else:\n",
    "                    control.append((advanced*2)[a][0])\n",
    "\n",
    "        playoffs[p] = [[control[c], control[c+1]] for c in range(0, len(control)-1, 1) if c%2 == 0]\n",
    "        \n",
    "        for i in range(0, len(playoffs[p]), 1):\n",
    "            game = playoffs[p][i]\n",
    "            \n",
    "            home = game[0]\n",
    "            away = game[1]\n",
    "            team_1 = find_stats(home)\n",
    "            team_2 = find_stats(away)\n",
    "\n",
    "            features_g1 = find_features(team_1, team_2)\n",
    "            features_g2 = find_features(team_2, team_1)\n",
    "            \n",
    "            probs_g1 = gb.predict_proba([features_g1])\n",
    "            probs_g2 = gb.predict_proba([features_g2])\n",
    "            \n",
    "            team_1_prob = (probs_g1[0][0] + probs_g2[0][1])/2\n",
    "            team_2_prob = (probs_g2[0][0] + probs_g1[0][1])/2\n",
    "            \n",
    "            if actual_round != p:\n",
    "                print(\"-\"*10)\n",
    "                print(\"Starting simulation of %s\"%(p))\n",
    "                print(\"-\"*10)\n",
    "                print(\"\\n\")\n",
    "            \n",
    "            if team_1_prob < team_2_prob:\n",
    "                print(\"%s vs. %s: %s advances with prob %.2f\"%(home, away, away, team_2_prob))\n",
    "                next_rounds.append(away)\n",
    "            else:\n",
    "                print(\"%s vs. %s: %s advances with prob %.2f\"%(home, away, home, team_1_prob))\n",
    "                next_rounds.append(home)\n",
    "            \n",
    "            game.append([team_1_prob, team_2_prob])\n",
    "            playoffs[p][i] = game\n",
    "            actual_round = p\n",
    "        \n",
    "    else:\n",
    "        playoffs[p] = [[next_rounds[c], next_rounds[c+1]] for c in range(0, len(next_rounds)-1, 1) if c%2 == 0]\n",
    "        next_rounds = []\n",
    "        for i in range(0, len(playoffs[p])):\n",
    "            game = playoffs[p][i]\n",
    "            home = game[0]\n",
    "            away = game[1]\n",
    "            team_1 = find_stats(home)\n",
    "            team_2 = find_stats(away)\n",
    "            \n",
    "            features_g1 = find_features(team_1, team_2)\n",
    "            features_g2 = find_features(team_2, team_1)\n",
    "            \n",
    "            probs_g1 = gb.predict_proba([features_g1])\n",
    "            probs_g2 = gb.predict_proba([features_g2])\n",
    "            \n",
    "            team_1_prob = (probs_g1[0][0] + probs_g2[0][1])/2\n",
    "            team_2_prob = (probs_g2[0][0] + probs_g1[0][1])/2\n",
    "            \n",
    "            if actual_round != p:\n",
    "                print(\"-\"*10)\n",
    "                print(\"Starting simulation of %s\"%(p))\n",
    "                print(\"-\"*10)\n",
    "                print(\"\\n\")\n",
    "            \n",
    "            if team_1_prob < team_2_prob:\n",
    "                print(\"%s vs. %s: %s advances with prob %.2f\"%(home, away, away, team_2_prob))\n",
    "                next_rounds.append(away)\n",
    "            else:\n",
    "                print(\"%s vs. %s: %s advances with prob %.2f\"%(home, away, home, team_1_prob))\n",
    "                next_rounds.append(home)\n",
    "            game.append([team_1_prob, team_2_prob])\n",
    "            playoffs[p][i] = game\n",
    "            actual_round = p\n",
    "            "
   ]
  },
  {
   "cell_type": "code",
   "execution_count": null,
   "metadata": {},
   "outputs": [],
   "source": []
  },
  {
   "cell_type": "code",
   "execution_count": null,
   "metadata": {},
   "outputs": [],
   "source": []
  },
  {
   "cell_type": "code",
   "execution_count": null,
   "metadata": {},
   "outputs": [],
   "source": []
  }
 ],
 "metadata": {
  "kernelspec": {
   "display_name": "Python 3 (ipykernel)",
   "language": "python",
   "name": "python3"
  },
  "language_info": {
   "codemirror_mode": {
    "name": "ipython",
    "version": 3
   },
   "file_extension": ".py",
   "mimetype": "text/x-python",
   "name": "python",
   "nbconvert_exporter": "python",
   "pygments_lexer": "ipython3",
   "version": "3.9.12"
  }
 },
 "nbformat": 4,
 "nbformat_minor": 4
}
